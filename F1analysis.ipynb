{
 "cells": [
  {
   "cell_type": "markdown",
   "source": [
    "# H1 F1 Data Analysis - Sajni Shah\n",
    "## Research Questions\n",
    "1. Determines wether changes to the car ave a direct impact on faster lap times for the following year\n",
    "2. Use driver performance data to try and predict a drivers final position based on their position in qualifying\n"
   ],
   "metadata": {
    "collapsed": false
   }
  },
  {
   "cell_type": "markdown",
   "source": [
    "## Data Retrieval and Standard Descriptive Analysis\n",
    "My Data Set contains 11 CSV files containing race data from 1950 to 2023. This Data includes\n",
    "1. CIRCUITS - Description about the location of each track that has been included in the F1 calenders from 1950 - present\n",
    "2. CONSTRUCTOR RESULTS - Results based on the constructor teams\n",
    "3. DRIVERS - Description about every driver that has raced in a F1 championship since 1950\n",
    "4. DRIVER STANDINGS - Driver standings in each year since 1950\n",
    "5. LAP TIMES - Lap times of every driver, from every race\n",
    "6. PIT STOPS - Amount of pit stops and time the pit stops took\n",
    "7. QUALIFYING - Qualifying position of each racer, from every race\n",
    "8. RACES - Each race, at every location, winner, fastest lap, winning team\n",
    "9. RESULTS - Results from each race\n",
    "10. SEASONS - Results at the end of each season"
   ],
   "metadata": {
    "collapsed": false
   }
  },
  {
   "cell_type": "markdown",
   "source": [
    "**This data set was found at :**\n",
    "[Data set Link](https://www.kaggle.com/datasets/rohanrao/formula-1-world-championship-1950-2020?select=circuits.csv)\n",
    "\n",
    "**Historical list of all changes made to Formula 1 cars was found at**\n",
    "[Changes to cars Link](https://en.wikipedia.org/wiki/History_of_Formula_One_regulations)"
   ],
   "metadata": {
    "collapsed": false
   }
  },
  {
   "cell_type": "markdown",
   "source": [
    "# Data Wrangling - Cleaning the data"
   ],
   "metadata": {
    "collapsed": false
   }
  },
  {
   "cell_type": "markdown",
   "source": [
    "We will be using the results.csv file mostly. To make the dataset usable, we need to clean it and remove the NaN values"
   ],
   "metadata": {
    "collapsed": false
   }
  },
  {
   "cell_type": "code",
   "execution_count": 106,
   "outputs": [
    {
     "data": {
      "text/plain": "   resultId  raceId  driverId  constructorId  number  grid  position  \\\n0         1      18         1              1    22.0     1       1.0   \n1         2      18         2              2     3.0     5       2.0   \n2         3      18         3              3     7.0     7       3.0   \n3         4      18         4              4     5.0    11       4.0   \n4         5      18         5              1    23.0     3       5.0   \n5         6      18         6              3     8.0    13       6.0   \n6         7      18         7              5    14.0    17       7.0   \n7         8      18         8              6     1.0    15       8.0   \n8         9      18         9              2     4.0     2       NaN   \n9        10      18        10              7    12.0    18       NaN   \n\n  positionText  positionOrder  points  laps         time  milliseconds  \\\n0            1              1    10.0    58  1:34:50.616     5690616.0   \n1            2              2     8.0    58        5.478     5696094.0   \n2            3              3     6.0    58        8.163     5698779.0   \n3            4              4     5.0    58       17.181     5707797.0   \n4            5              5     4.0    58       18.014     5708630.0   \n5            6              6     3.0    57          NaN           NaN   \n6            7              7     2.0    55          NaN           NaN   \n7            8              8     1.0    53          NaN           NaN   \n8            R              9     0.0    47          NaN           NaN   \n9            R             10     0.0    43          NaN           NaN   \n\n   fastestLap  rank fastestLapTime  fastestLapSpeed  statusId  \n0        39.0   2.0       1:27.452          218.300         1  \n1        41.0   3.0       1:27.739          217.586         1  \n2        41.0   5.0       1:28.090          216.719         1  \n3        58.0   7.0       1:28.603          215.464         1  \n4        43.0   1.0       1:27.418          218.385         1  \n5        50.0  14.0       1:29.639          212.974        11  \n6        22.0  12.0       1:29.534          213.224         5  \n7        20.0   4.0       1:27.903          217.180         5  \n8        15.0   9.0       1:28.753          215.100         4  \n9        23.0  13.0       1:29.558          213.166         3  ",
      "text/html": "<div>\n<style scoped>\n    .dataframe tbody tr th:only-of-type {\n        vertical-align: middle;\n    }\n\n    .dataframe tbody tr th {\n        vertical-align: top;\n    }\n\n    .dataframe thead th {\n        text-align: right;\n    }\n</style>\n<table border=\"1\" class=\"dataframe\">\n  <thead>\n    <tr style=\"text-align: right;\">\n      <th></th>\n      <th>resultId</th>\n      <th>raceId</th>\n      <th>driverId</th>\n      <th>constructorId</th>\n      <th>number</th>\n      <th>grid</th>\n      <th>position</th>\n      <th>positionText</th>\n      <th>positionOrder</th>\n      <th>points</th>\n      <th>laps</th>\n      <th>time</th>\n      <th>milliseconds</th>\n      <th>fastestLap</th>\n      <th>rank</th>\n      <th>fastestLapTime</th>\n      <th>fastestLapSpeed</th>\n      <th>statusId</th>\n    </tr>\n  </thead>\n  <tbody>\n    <tr>\n      <th>0</th>\n      <td>1</td>\n      <td>18</td>\n      <td>1</td>\n      <td>1</td>\n      <td>22.0</td>\n      <td>1</td>\n      <td>1.0</td>\n      <td>1</td>\n      <td>1</td>\n      <td>10.0</td>\n      <td>58</td>\n      <td>1:34:50.616</td>\n      <td>5690616.0</td>\n      <td>39.0</td>\n      <td>2.0</td>\n      <td>1:27.452</td>\n      <td>218.300</td>\n      <td>1</td>\n    </tr>\n    <tr>\n      <th>1</th>\n      <td>2</td>\n      <td>18</td>\n      <td>2</td>\n      <td>2</td>\n      <td>3.0</td>\n      <td>5</td>\n      <td>2.0</td>\n      <td>2</td>\n      <td>2</td>\n      <td>8.0</td>\n      <td>58</td>\n      <td>5.478</td>\n      <td>5696094.0</td>\n      <td>41.0</td>\n      <td>3.0</td>\n      <td>1:27.739</td>\n      <td>217.586</td>\n      <td>1</td>\n    </tr>\n    <tr>\n      <th>2</th>\n      <td>3</td>\n      <td>18</td>\n      <td>3</td>\n      <td>3</td>\n      <td>7.0</td>\n      <td>7</td>\n      <td>3.0</td>\n      <td>3</td>\n      <td>3</td>\n      <td>6.0</td>\n      <td>58</td>\n      <td>8.163</td>\n      <td>5698779.0</td>\n      <td>41.0</td>\n      <td>5.0</td>\n      <td>1:28.090</td>\n      <td>216.719</td>\n      <td>1</td>\n    </tr>\n    <tr>\n      <th>3</th>\n      <td>4</td>\n      <td>18</td>\n      <td>4</td>\n      <td>4</td>\n      <td>5.0</td>\n      <td>11</td>\n      <td>4.0</td>\n      <td>4</td>\n      <td>4</td>\n      <td>5.0</td>\n      <td>58</td>\n      <td>17.181</td>\n      <td>5707797.0</td>\n      <td>58.0</td>\n      <td>7.0</td>\n      <td>1:28.603</td>\n      <td>215.464</td>\n      <td>1</td>\n    </tr>\n    <tr>\n      <th>4</th>\n      <td>5</td>\n      <td>18</td>\n      <td>5</td>\n      <td>1</td>\n      <td>23.0</td>\n      <td>3</td>\n      <td>5.0</td>\n      <td>5</td>\n      <td>5</td>\n      <td>4.0</td>\n      <td>58</td>\n      <td>18.014</td>\n      <td>5708630.0</td>\n      <td>43.0</td>\n      <td>1.0</td>\n      <td>1:27.418</td>\n      <td>218.385</td>\n      <td>1</td>\n    </tr>\n    <tr>\n      <th>5</th>\n      <td>6</td>\n      <td>18</td>\n      <td>6</td>\n      <td>3</td>\n      <td>8.0</td>\n      <td>13</td>\n      <td>6.0</td>\n      <td>6</td>\n      <td>6</td>\n      <td>3.0</td>\n      <td>57</td>\n      <td>NaN</td>\n      <td>NaN</td>\n      <td>50.0</td>\n      <td>14.0</td>\n      <td>1:29.639</td>\n      <td>212.974</td>\n      <td>11</td>\n    </tr>\n    <tr>\n      <th>6</th>\n      <td>7</td>\n      <td>18</td>\n      <td>7</td>\n      <td>5</td>\n      <td>14.0</td>\n      <td>17</td>\n      <td>7.0</td>\n      <td>7</td>\n      <td>7</td>\n      <td>2.0</td>\n      <td>55</td>\n      <td>NaN</td>\n      <td>NaN</td>\n      <td>22.0</td>\n      <td>12.0</td>\n      <td>1:29.534</td>\n      <td>213.224</td>\n      <td>5</td>\n    </tr>\n    <tr>\n      <th>7</th>\n      <td>8</td>\n      <td>18</td>\n      <td>8</td>\n      <td>6</td>\n      <td>1.0</td>\n      <td>15</td>\n      <td>8.0</td>\n      <td>8</td>\n      <td>8</td>\n      <td>1.0</td>\n      <td>53</td>\n      <td>NaN</td>\n      <td>NaN</td>\n      <td>20.0</td>\n      <td>4.0</td>\n      <td>1:27.903</td>\n      <td>217.180</td>\n      <td>5</td>\n    </tr>\n    <tr>\n      <th>8</th>\n      <td>9</td>\n      <td>18</td>\n      <td>9</td>\n      <td>2</td>\n      <td>4.0</td>\n      <td>2</td>\n      <td>NaN</td>\n      <td>R</td>\n      <td>9</td>\n      <td>0.0</td>\n      <td>47</td>\n      <td>NaN</td>\n      <td>NaN</td>\n      <td>15.0</td>\n      <td>9.0</td>\n      <td>1:28.753</td>\n      <td>215.100</td>\n      <td>4</td>\n    </tr>\n    <tr>\n      <th>9</th>\n      <td>10</td>\n      <td>18</td>\n      <td>10</td>\n      <td>7</td>\n      <td>12.0</td>\n      <td>18</td>\n      <td>NaN</td>\n      <td>R</td>\n      <td>10</td>\n      <td>0.0</td>\n      <td>43</td>\n      <td>NaN</td>\n      <td>NaN</td>\n      <td>23.0</td>\n      <td>13.0</td>\n      <td>1:29.558</td>\n      <td>213.166</td>\n      <td>3</td>\n    </tr>\n  </tbody>\n</table>\n</div>"
     },
     "execution_count": 106,
     "metadata": {},
     "output_type": "execute_result"
    }
   ],
   "source": [
    "import pandas as pd\n",
    "results = pd.read_csv(\"results.csv\")\n",
    "results.head(10)"
   ],
   "metadata": {
    "collapsed": false
   }
  },
  {
   "cell_type": "code",
   "execution_count": 107,
   "outputs": [
    {
     "data": {
      "text/plain": "0        1:27.452\n1        1:27.739\n2        1:28.090\n3        1:28.603\n4        1:27.418\n           ...   \n25835    1:29.833\n25836    1:31.158\n25837    1:29.788\n25838    1:30.309\n25839    1:30.579\nName: fastestLapTime, Length: 25840, dtype: object"
     },
     "execution_count": 107,
     "metadata": {},
     "output_type": "execute_result"
    }
   ],
   "source": [
    "results['fastestLapTime']"
   ],
   "metadata": {
    "collapsed": false
   }
  },
  {
   "cell_type": "markdown",
   "source": [
    "From research, I noticed that there are a lot more NaN values in the earlier recors because of the lack of recording devices in the 50s and 60s"
   ],
   "metadata": {
    "collapsed": false
   }
  },
  {
   "cell_type": "code",
   "execution_count": 108,
   "outputs": [
    {
     "data": {
      "text/plain": "           resultId        raceId      driverId  constructorId        number  \\\ncount  25840.000000  25840.000000  25840.000000   25840.000000  25834.000000   \nmean   12921.334327    531.425813    261.732082      48.628328     17.790083   \nstd     7460.682031    299.440908    268.623016      59.732131     15.104842   \nmin        1.000000      1.000000      1.000000       1.000000      0.000000   \n25%     6460.750000    293.000000     56.000000       6.000000      7.000000   \n50%    12920.500000    514.000000    163.000000      25.000000     15.000000   \n75%    19380.250000    784.000000    360.000000      58.000000     24.000000   \nmax    25845.000000   1096.000000    856.000000     214.000000    208.000000   \n\n               grid      position  positionOrder        points          laps  \\\ncount  25840.000000  14989.000000   25840.000000  25840.000000  25840.000000   \nmean      11.179063      7.942491      12.876006      1.877053     45.977515   \nstd        7.243725      4.806021       7.712391      4.169849     29.808951   \nmin        0.000000      1.000000       1.000000      0.000000      0.000000   \n25%        5.000000      4.000000       6.000000      0.000000     22.000000   \n50%       11.000000      7.000000      12.000000      0.000000     52.000000   \n75%       17.000000     11.000000      18.000000      2.000000     66.000000   \nmax       34.000000     33.000000      39.000000     50.000000    200.000000   \n\n       milliseconds   fastestLap         rank  fastestLapSpeed      statusId  \ncount  7.087000e+03  7379.000000  7591.000000      7379.000000  25840.000000  \nmean   6.231870e+06    42.514162    10.409959       203.089214     17.568692  \nstd    1.678933e+06    16.835664     6.162407        21.356876     26.155476  \nmin    2.070710e+05     2.000000     0.000000        89.540000      1.000000  \n25%    5.413270e+06    32.000000     5.000000       192.776000      1.000000  \n50%    5.814618e+06    45.000000    10.000000       204.291000     11.000000  \n75%    6.426264e+06    54.000000    16.000000       216.159500     14.000000  \nmax    1.509054e+07    85.000000    24.000000       257.320000    141.000000  ",
      "text/html": "<div>\n<style scoped>\n    .dataframe tbody tr th:only-of-type {\n        vertical-align: middle;\n    }\n\n    .dataframe tbody tr th {\n        vertical-align: top;\n    }\n\n    .dataframe thead th {\n        text-align: right;\n    }\n</style>\n<table border=\"1\" class=\"dataframe\">\n  <thead>\n    <tr style=\"text-align: right;\">\n      <th></th>\n      <th>resultId</th>\n      <th>raceId</th>\n      <th>driverId</th>\n      <th>constructorId</th>\n      <th>number</th>\n      <th>grid</th>\n      <th>position</th>\n      <th>positionOrder</th>\n      <th>points</th>\n      <th>laps</th>\n      <th>milliseconds</th>\n      <th>fastestLap</th>\n      <th>rank</th>\n      <th>fastestLapSpeed</th>\n      <th>statusId</th>\n    </tr>\n  </thead>\n  <tbody>\n    <tr>\n      <th>count</th>\n      <td>25840.000000</td>\n      <td>25840.000000</td>\n      <td>25840.000000</td>\n      <td>25840.000000</td>\n      <td>25834.000000</td>\n      <td>25840.000000</td>\n      <td>14989.000000</td>\n      <td>25840.000000</td>\n      <td>25840.000000</td>\n      <td>25840.000000</td>\n      <td>7.087000e+03</td>\n      <td>7379.000000</td>\n      <td>7591.000000</td>\n      <td>7379.000000</td>\n      <td>25840.000000</td>\n    </tr>\n    <tr>\n      <th>mean</th>\n      <td>12921.334327</td>\n      <td>531.425813</td>\n      <td>261.732082</td>\n      <td>48.628328</td>\n      <td>17.790083</td>\n      <td>11.179063</td>\n      <td>7.942491</td>\n      <td>12.876006</td>\n      <td>1.877053</td>\n      <td>45.977515</td>\n      <td>6.231870e+06</td>\n      <td>42.514162</td>\n      <td>10.409959</td>\n      <td>203.089214</td>\n      <td>17.568692</td>\n    </tr>\n    <tr>\n      <th>std</th>\n      <td>7460.682031</td>\n      <td>299.440908</td>\n      <td>268.623016</td>\n      <td>59.732131</td>\n      <td>15.104842</td>\n      <td>7.243725</td>\n      <td>4.806021</td>\n      <td>7.712391</td>\n      <td>4.169849</td>\n      <td>29.808951</td>\n      <td>1.678933e+06</td>\n      <td>16.835664</td>\n      <td>6.162407</td>\n      <td>21.356876</td>\n      <td>26.155476</td>\n    </tr>\n    <tr>\n      <th>min</th>\n      <td>1.000000</td>\n      <td>1.000000</td>\n      <td>1.000000</td>\n      <td>1.000000</td>\n      <td>0.000000</td>\n      <td>0.000000</td>\n      <td>1.000000</td>\n      <td>1.000000</td>\n      <td>0.000000</td>\n      <td>0.000000</td>\n      <td>2.070710e+05</td>\n      <td>2.000000</td>\n      <td>0.000000</td>\n      <td>89.540000</td>\n      <td>1.000000</td>\n    </tr>\n    <tr>\n      <th>25%</th>\n      <td>6460.750000</td>\n      <td>293.000000</td>\n      <td>56.000000</td>\n      <td>6.000000</td>\n      <td>7.000000</td>\n      <td>5.000000</td>\n      <td>4.000000</td>\n      <td>6.000000</td>\n      <td>0.000000</td>\n      <td>22.000000</td>\n      <td>5.413270e+06</td>\n      <td>32.000000</td>\n      <td>5.000000</td>\n      <td>192.776000</td>\n      <td>1.000000</td>\n    </tr>\n    <tr>\n      <th>50%</th>\n      <td>12920.500000</td>\n      <td>514.000000</td>\n      <td>163.000000</td>\n      <td>25.000000</td>\n      <td>15.000000</td>\n      <td>11.000000</td>\n      <td>7.000000</td>\n      <td>12.000000</td>\n      <td>0.000000</td>\n      <td>52.000000</td>\n      <td>5.814618e+06</td>\n      <td>45.000000</td>\n      <td>10.000000</td>\n      <td>204.291000</td>\n      <td>11.000000</td>\n    </tr>\n    <tr>\n      <th>75%</th>\n      <td>19380.250000</td>\n      <td>784.000000</td>\n      <td>360.000000</td>\n      <td>58.000000</td>\n      <td>24.000000</td>\n      <td>17.000000</td>\n      <td>11.000000</td>\n      <td>18.000000</td>\n      <td>2.000000</td>\n      <td>66.000000</td>\n      <td>6.426264e+06</td>\n      <td>54.000000</td>\n      <td>16.000000</td>\n      <td>216.159500</td>\n      <td>14.000000</td>\n    </tr>\n    <tr>\n      <th>max</th>\n      <td>25845.000000</td>\n      <td>1096.000000</td>\n      <td>856.000000</td>\n      <td>214.000000</td>\n      <td>208.000000</td>\n      <td>34.000000</td>\n      <td>33.000000</td>\n      <td>39.000000</td>\n      <td>50.000000</td>\n      <td>200.000000</td>\n      <td>1.509054e+07</td>\n      <td>85.000000</td>\n      <td>24.000000</td>\n      <td>257.320000</td>\n      <td>141.000000</td>\n    </tr>\n  </tbody>\n</table>\n</div>"
     },
     "execution_count": 108,
     "metadata": {},
     "output_type": "execute_result"
    }
   ],
   "source": [
    "results.describe()"
   ],
   "metadata": {
    "collapsed": false
   }
  },
  {
   "cell_type": "code",
   "execution_count": 109,
   "outputs": [
    {
     "data": {
      "text/plain": "resultId           25840\nraceId             25840\ndriverId           25840\nconstructorId      25840\nnumber             25834\ngrid               25840\nposition           14989\npositionText       25840\npositionOrder      25840\npoints             25840\nlaps               25840\ntime                7088\nmilliseconds        7087\nfastestLap          7379\nrank                7591\nfastestLapTime      7379\nfastestLapSpeed     7379\nstatusId           25840\ndtype: int64"
     },
     "execution_count": 109,
     "metadata": {},
     "output_type": "execute_result"
    }
   ],
   "source": [
    "results.count()"
   ],
   "metadata": {
    "collapsed": false
   }
  },
  {
   "cell_type": "markdown",
   "source": [
    "We can check how many null values we have by using the following"
   ],
   "metadata": {
    "collapsed": false
   }
  },
  {
   "cell_type": "code",
   "execution_count": 110,
   "outputs": [
    {
     "data": {
      "text/plain": "resultId               0\nraceId                 0\ndriverId               0\nconstructorId          0\nnumber                 6\ngrid                   0\nposition           10851\npositionText           0\npositionOrder          0\npoints                 0\nlaps                   0\ntime               18752\nmilliseconds       18753\nfastestLap         18461\nrank               18249\nfastestLapTime     18461\nfastestLapSpeed    18461\nstatusId               0\ndtype: int64"
     },
     "execution_count": 110,
     "metadata": {},
     "output_type": "execute_result"
    }
   ],
   "source": [
    "results.isnull().sum()"
   ],
   "metadata": {
    "collapsed": false
   }
  },
  {
   "cell_type": "code",
   "execution_count": 111,
   "outputs": [
    {
     "data": {
      "text/plain": "resultId           0\nraceId             0\ndriverId           0\nconstructorId      0\nnumber             0\ngrid               0\nposition           0\npositionText       0\npositionOrder      0\npoints             0\nlaps               0\ntime               0\nmilliseconds       0\nfastestLap         0\nrank               0\nfastestLapTime     0\nfastestLapSpeed    0\nstatusId           0\ndtype: int64"
     },
     "execution_count": 111,
     "metadata": {},
     "output_type": "execute_result"
    }
   ],
   "source": [
    "results.dropna(inplace=True) #drop all data where there is a null value\n",
    "results.isnull().sum()"
   ],
   "metadata": {
    "collapsed": false
   }
  },
  {
   "cell_type": "code",
   "execution_count": 112,
   "outputs": [
    {
     "data": {
      "text/plain": "resultId           3681\nraceId             3681\ndriverId           3681\nconstructorId      3681\nnumber             3681\ngrid               3681\nposition           3681\npositionText       3681\npositionOrder      3681\npoints             3681\nlaps               3681\ntime               3681\nmilliseconds       3681\nfastestLap         3681\nrank               3681\nfastestLapTime     3681\nfastestLapSpeed    3681\nstatusId           3681\ndtype: int64"
     },
     "execution_count": 112,
     "metadata": {},
     "output_type": "execute_result"
    }
   ],
   "source": [
    "results.count()"
   ],
   "metadata": {
    "collapsed": false
   }
  },
  {
   "cell_type": "markdown",
   "source": [
    "Now we can see that our results have been cleaned and now are ready to use"
   ],
   "metadata": {
    "collapsed": false
   }
  },
  {
   "cell_type": "code",
   "execution_count": 113,
   "outputs": [
    {
     "data": {
      "text/plain": "resultId             int64\nraceId               int64\ndriverId             int64\nconstructorId        int64\nnumber             float64\ngrid                 int64\nposition           float64\npositionText        object\npositionOrder        int64\npoints             float64\nlaps                 int64\ntime                object\nmilliseconds       float64\nfastestLap         float64\nrank               float64\nfastestLapTime      object\nfastestLapSpeed    float64\nstatusId             int64\ndtype: object"
     },
     "execution_count": 113,
     "metadata": {},
     "output_type": "execute_result"
    }
   ],
   "source": [
    "#Data types of data\n",
    "results.dtypes"
   ],
   "metadata": {
    "collapsed": false
   }
  },
  {
   "cell_type": "markdown",
   "source": [
    "## Data Integration & Data Enrichment"
   ],
   "metadata": {
    "collapsed": false
   }
  },
  {
   "cell_type": "markdown",
   "source": [
    "### Combining the ids from each CSV file\n",
    "If you exam each of the csv files, you can see that all the data in the csv fles is linked to another file through e.g. 'RaceID' or 'ConstructorID' - similar to a relational database. Therefore we need to merge all these files together and then delete the columns of data we do not need"
   ],
   "metadata": {
    "collapsed": false
   }
  },
  {
   "cell_type": "markdown",
   "source": [
    "### My approach to integrating the data"
   ],
   "metadata": {
    "collapsed": false
   }
  },
  {
   "cell_type": "markdown",
   "source": [
    "It would be difficult to merge all files and then explore the data as this will have 30+ columns. Hence, I decided to merge each column individually and then delete the redundant columns straight away before merging another file of columns. To save me making mistake, I saved every new merge to a new variable and use it as a checkpoint. The final variable is call **Final Data**"
   ],
   "metadata": {
    "collapsed": false
   }
  },
  {
   "cell_type": "code",
   "execution_count": 114,
   "outputs": [
    {
     "data": {
      "text/plain": "   driverId   driverRef  number code  forename     surname         dob  \\\n0         1    hamilton    44.0  HAM     Lewis    Hamilton  1985-01-07   \n1         2    heidfeld     NaN  HEI      Nick    Heidfeld  1977-05-10   \n2         3     rosberg     6.0  ROS      Nico     Rosberg  1985-06-27   \n3         4      alonso    14.0  ALO  Fernando      Alonso  1981-07-29   \n4         5  kovalainen     NaN  KOV    Heikki  Kovalainen  1981-10-19   \n\n  nationality                                             url  \n0     British     http://en.wikipedia.org/wiki/Lewis_Hamilton  \n1      German      http://en.wikipedia.org/wiki/Nick_Heidfeld  \n2      German       http://en.wikipedia.org/wiki/Nico_Rosberg  \n3     Spanish    http://en.wikipedia.org/wiki/Fernando_Alonso  \n4     Finnish  http://en.wikipedia.org/wiki/Heikki_Kovalainen  ",
      "text/html": "<div>\n<style scoped>\n    .dataframe tbody tr th:only-of-type {\n        vertical-align: middle;\n    }\n\n    .dataframe tbody tr th {\n        vertical-align: top;\n    }\n\n    .dataframe thead th {\n        text-align: right;\n    }\n</style>\n<table border=\"1\" class=\"dataframe\">\n  <thead>\n    <tr style=\"text-align: right;\">\n      <th></th>\n      <th>driverId</th>\n      <th>driverRef</th>\n      <th>number</th>\n      <th>code</th>\n      <th>forename</th>\n      <th>surname</th>\n      <th>dob</th>\n      <th>nationality</th>\n      <th>url</th>\n    </tr>\n  </thead>\n  <tbody>\n    <tr>\n      <th>0</th>\n      <td>1</td>\n      <td>hamilton</td>\n      <td>44.0</td>\n      <td>HAM</td>\n      <td>Lewis</td>\n      <td>Hamilton</td>\n      <td>1985-01-07</td>\n      <td>British</td>\n      <td>http://en.wikipedia.org/wiki/Lewis_Hamilton</td>\n    </tr>\n    <tr>\n      <th>1</th>\n      <td>2</td>\n      <td>heidfeld</td>\n      <td>NaN</td>\n      <td>HEI</td>\n      <td>Nick</td>\n      <td>Heidfeld</td>\n      <td>1977-05-10</td>\n      <td>German</td>\n      <td>http://en.wikipedia.org/wiki/Nick_Heidfeld</td>\n    </tr>\n    <tr>\n      <th>2</th>\n      <td>3</td>\n      <td>rosberg</td>\n      <td>6.0</td>\n      <td>ROS</td>\n      <td>Nico</td>\n      <td>Rosberg</td>\n      <td>1985-06-27</td>\n      <td>German</td>\n      <td>http://en.wikipedia.org/wiki/Nico_Rosberg</td>\n    </tr>\n    <tr>\n      <th>3</th>\n      <td>4</td>\n      <td>alonso</td>\n      <td>14.0</td>\n      <td>ALO</td>\n      <td>Fernando</td>\n      <td>Alonso</td>\n      <td>1981-07-29</td>\n      <td>Spanish</td>\n      <td>http://en.wikipedia.org/wiki/Fernando_Alonso</td>\n    </tr>\n    <tr>\n      <th>4</th>\n      <td>5</td>\n      <td>kovalainen</td>\n      <td>NaN</td>\n      <td>KOV</td>\n      <td>Heikki</td>\n      <td>Kovalainen</td>\n      <td>1981-10-19</td>\n      <td>Finnish</td>\n      <td>http://en.wikipedia.org/wiki/Heikki_Kovalainen</td>\n    </tr>\n  </tbody>\n</table>\n</div>"
     },
     "execution_count": 114,
     "metadata": {},
     "output_type": "execute_result"
    }
   ],
   "source": [
    "#Reading in the drivers Csv File\n",
    "drivers = pd.read_csv(\"drivers.csv\", encoding = \"ISO-8859-1\")\n",
    "drivers.head()"
   ],
   "metadata": {
    "collapsed": false
   }
  },
  {
   "cell_type": "code",
   "execution_count": 115,
   "outputs": [
    {
     "data": {
      "text/plain": "      resultId  raceId  driverId  constructorId  number_x  grid  position  \\\n0            1      18         1              1      22.0     1       1.0   \n1           27      19         1              1      22.0     9       5.0   \n2           69      21         1              1      22.0     5       3.0   \n3           90      22         1              1      22.0     3       2.0   \n4          109      23         1              1      22.0     3       1.0   \n...        ...     ...       ...            ...       ...   ...       ...   \n3676     25715    1089       855             51      24.0     9      10.0   \n3677     25761    1092       855             51      24.0    14      16.0   \n3678     25777    1093       855             51      24.0    18      12.0   \n3679     25817    1095       855             51      24.0    13      12.0   \n3680     25714    1089       856              3      45.0     8       9.0   \n\n     positionText  positionOrder  points  ...  fastestLapSpeed statusId  \\\n0               1              1    10.0  ...          218.300        1   \n1               5              5     4.0  ...          209.033        1   \n2               3              3     6.0  ...          204.323        1   \n3               2              2     8.0  ...          222.085        1   \n4               1              1    10.0  ...          153.152        1   \n...           ...            ...     ...  ...              ...      ...   \n3676           10             10     1.0  ...          241.484        1   \n3677           16             16     0.0  ...          200.220        1   \n3678           12             12     0.0  ...          193.682        1   \n3679           12             12     0.0  ...          204.643        1   \n3680            9              9     2.0  ...          240.750        1   \n\n      driverRef  number_y  code forename   surname         dob nationality  \\\n0      hamilton      44.0   HAM    Lewis  Hamilton  1985-01-07     British   \n1      hamilton      44.0   HAM    Lewis  Hamilton  1985-01-07     British   \n2      hamilton      44.0   HAM    Lewis  Hamilton  1985-01-07     British   \n3      hamilton      44.0   HAM    Lewis  Hamilton  1985-01-07     British   \n4      hamilton      44.0   HAM    Lewis  Hamilton  1985-01-07     British   \n...         ...       ...   ...      ...       ...         ...         ...   \n3676       zhou      24.0   ZHO   Guanyu      Zhou  1999-05-30     Chinese   \n3677       zhou      24.0   ZHO   Guanyu      Zhou  1999-05-30     Chinese   \n3678       zhou      24.0   ZHO   Guanyu      Zhou  1999-05-30     Chinese   \n3679       zhou      24.0   ZHO   Guanyu      Zhou  1999-05-30     Chinese   \n3680   de_vries      45.0   DEV     Nyck  de Vries  1995-02-06       Dutch   \n\n                                              url  \n0     http://en.wikipedia.org/wiki/Lewis_Hamilton  \n1     http://en.wikipedia.org/wiki/Lewis_Hamilton  \n2     http://en.wikipedia.org/wiki/Lewis_Hamilton  \n3     http://en.wikipedia.org/wiki/Lewis_Hamilton  \n4     http://en.wikipedia.org/wiki/Lewis_Hamilton  \n...                                           ...  \n3676     http://en.wikipedia.org/wiki/Guanyu_Zhou  \n3677     http://en.wikipedia.org/wiki/Guanyu_Zhou  \n3678     http://en.wikipedia.org/wiki/Guanyu_Zhou  \n3679     http://en.wikipedia.org/wiki/Guanyu_Zhou  \n3680   http://en.wikipedia.org/wiki/Nyck_de_Vries  \n\n[3681 rows x 26 columns]",
      "text/html": "<div>\n<style scoped>\n    .dataframe tbody tr th:only-of-type {\n        vertical-align: middle;\n    }\n\n    .dataframe tbody tr th {\n        vertical-align: top;\n    }\n\n    .dataframe thead th {\n        text-align: right;\n    }\n</style>\n<table border=\"1\" class=\"dataframe\">\n  <thead>\n    <tr style=\"text-align: right;\">\n      <th></th>\n      <th>resultId</th>\n      <th>raceId</th>\n      <th>driverId</th>\n      <th>constructorId</th>\n      <th>number_x</th>\n      <th>grid</th>\n      <th>position</th>\n      <th>positionText</th>\n      <th>positionOrder</th>\n      <th>points</th>\n      <th>...</th>\n      <th>fastestLapSpeed</th>\n      <th>statusId</th>\n      <th>driverRef</th>\n      <th>number_y</th>\n      <th>code</th>\n      <th>forename</th>\n      <th>surname</th>\n      <th>dob</th>\n      <th>nationality</th>\n      <th>url</th>\n    </tr>\n  </thead>\n  <tbody>\n    <tr>\n      <th>0</th>\n      <td>1</td>\n      <td>18</td>\n      <td>1</td>\n      <td>1</td>\n      <td>22.0</td>\n      <td>1</td>\n      <td>1.0</td>\n      <td>1</td>\n      <td>1</td>\n      <td>10.0</td>\n      <td>...</td>\n      <td>218.300</td>\n      <td>1</td>\n      <td>hamilton</td>\n      <td>44.0</td>\n      <td>HAM</td>\n      <td>Lewis</td>\n      <td>Hamilton</td>\n      <td>1985-01-07</td>\n      <td>British</td>\n      <td>http://en.wikipedia.org/wiki/Lewis_Hamilton</td>\n    </tr>\n    <tr>\n      <th>1</th>\n      <td>27</td>\n      <td>19</td>\n      <td>1</td>\n      <td>1</td>\n      <td>22.0</td>\n      <td>9</td>\n      <td>5.0</td>\n      <td>5</td>\n      <td>5</td>\n      <td>4.0</td>\n      <td>...</td>\n      <td>209.033</td>\n      <td>1</td>\n      <td>hamilton</td>\n      <td>44.0</td>\n      <td>HAM</td>\n      <td>Lewis</td>\n      <td>Hamilton</td>\n      <td>1985-01-07</td>\n      <td>British</td>\n      <td>http://en.wikipedia.org/wiki/Lewis_Hamilton</td>\n    </tr>\n    <tr>\n      <th>2</th>\n      <td>69</td>\n      <td>21</td>\n      <td>1</td>\n      <td>1</td>\n      <td>22.0</td>\n      <td>5</td>\n      <td>3.0</td>\n      <td>3</td>\n      <td>3</td>\n      <td>6.0</td>\n      <td>...</td>\n      <td>204.323</td>\n      <td>1</td>\n      <td>hamilton</td>\n      <td>44.0</td>\n      <td>HAM</td>\n      <td>Lewis</td>\n      <td>Hamilton</td>\n      <td>1985-01-07</td>\n      <td>British</td>\n      <td>http://en.wikipedia.org/wiki/Lewis_Hamilton</td>\n    </tr>\n    <tr>\n      <th>3</th>\n      <td>90</td>\n      <td>22</td>\n      <td>1</td>\n      <td>1</td>\n      <td>22.0</td>\n      <td>3</td>\n      <td>2.0</td>\n      <td>2</td>\n      <td>2</td>\n      <td>8.0</td>\n      <td>...</td>\n      <td>222.085</td>\n      <td>1</td>\n      <td>hamilton</td>\n      <td>44.0</td>\n      <td>HAM</td>\n      <td>Lewis</td>\n      <td>Hamilton</td>\n      <td>1985-01-07</td>\n      <td>British</td>\n      <td>http://en.wikipedia.org/wiki/Lewis_Hamilton</td>\n    </tr>\n    <tr>\n      <th>4</th>\n      <td>109</td>\n      <td>23</td>\n      <td>1</td>\n      <td>1</td>\n      <td>22.0</td>\n      <td>3</td>\n      <td>1.0</td>\n      <td>1</td>\n      <td>1</td>\n      <td>10.0</td>\n      <td>...</td>\n      <td>153.152</td>\n      <td>1</td>\n      <td>hamilton</td>\n      <td>44.0</td>\n      <td>HAM</td>\n      <td>Lewis</td>\n      <td>Hamilton</td>\n      <td>1985-01-07</td>\n      <td>British</td>\n      <td>http://en.wikipedia.org/wiki/Lewis_Hamilton</td>\n    </tr>\n    <tr>\n      <th>...</th>\n      <td>...</td>\n      <td>...</td>\n      <td>...</td>\n      <td>...</td>\n      <td>...</td>\n      <td>...</td>\n      <td>...</td>\n      <td>...</td>\n      <td>...</td>\n      <td>...</td>\n      <td>...</td>\n      <td>...</td>\n      <td>...</td>\n      <td>...</td>\n      <td>...</td>\n      <td>...</td>\n      <td>...</td>\n      <td>...</td>\n      <td>...</td>\n      <td>...</td>\n      <td>...</td>\n    </tr>\n    <tr>\n      <th>3676</th>\n      <td>25715</td>\n      <td>1089</td>\n      <td>855</td>\n      <td>51</td>\n      <td>24.0</td>\n      <td>9</td>\n      <td>10.0</td>\n      <td>10</td>\n      <td>10</td>\n      <td>1.0</td>\n      <td>...</td>\n      <td>241.484</td>\n      <td>1</td>\n      <td>zhou</td>\n      <td>24.0</td>\n      <td>ZHO</td>\n      <td>Guanyu</td>\n      <td>Zhou</td>\n      <td>1999-05-30</td>\n      <td>Chinese</td>\n      <td>http://en.wikipedia.org/wiki/Guanyu_Zhou</td>\n    </tr>\n    <tr>\n      <th>3677</th>\n      <td>25761</td>\n      <td>1092</td>\n      <td>855</td>\n      <td>51</td>\n      <td>24.0</td>\n      <td>14</td>\n      <td>16.0</td>\n      <td>16</td>\n      <td>16</td>\n      <td>0.0</td>\n      <td>...</td>\n      <td>200.220</td>\n      <td>1</td>\n      <td>zhou</td>\n      <td>24.0</td>\n      <td>ZHO</td>\n      <td>Guanyu</td>\n      <td>Zhou</td>\n      <td>1999-05-30</td>\n      <td>Chinese</td>\n      <td>http://en.wikipedia.org/wiki/Guanyu_Zhou</td>\n    </tr>\n    <tr>\n      <th>3678</th>\n      <td>25777</td>\n      <td>1093</td>\n      <td>855</td>\n      <td>51</td>\n      <td>24.0</td>\n      <td>18</td>\n      <td>12.0</td>\n      <td>12</td>\n      <td>12</td>\n      <td>0.0</td>\n      <td>...</td>\n      <td>193.682</td>\n      <td>1</td>\n      <td>zhou</td>\n      <td>24.0</td>\n      <td>ZHO</td>\n      <td>Guanyu</td>\n      <td>Zhou</td>\n      <td>1999-05-30</td>\n      <td>Chinese</td>\n      <td>http://en.wikipedia.org/wiki/Guanyu_Zhou</td>\n    </tr>\n    <tr>\n      <th>3679</th>\n      <td>25817</td>\n      <td>1095</td>\n      <td>855</td>\n      <td>51</td>\n      <td>24.0</td>\n      <td>13</td>\n      <td>12.0</td>\n      <td>12</td>\n      <td>12</td>\n      <td>0.0</td>\n      <td>...</td>\n      <td>204.643</td>\n      <td>1</td>\n      <td>zhou</td>\n      <td>24.0</td>\n      <td>ZHO</td>\n      <td>Guanyu</td>\n      <td>Zhou</td>\n      <td>1999-05-30</td>\n      <td>Chinese</td>\n      <td>http://en.wikipedia.org/wiki/Guanyu_Zhou</td>\n    </tr>\n    <tr>\n      <th>3680</th>\n      <td>25714</td>\n      <td>1089</td>\n      <td>856</td>\n      <td>3</td>\n      <td>45.0</td>\n      <td>8</td>\n      <td>9.0</td>\n      <td>9</td>\n      <td>9</td>\n      <td>2.0</td>\n      <td>...</td>\n      <td>240.750</td>\n      <td>1</td>\n      <td>de_vries</td>\n      <td>45.0</td>\n      <td>DEV</td>\n      <td>Nyck</td>\n      <td>de Vries</td>\n      <td>1995-02-06</td>\n      <td>Dutch</td>\n      <td>http://en.wikipedia.org/wiki/Nyck_de_Vries</td>\n    </tr>\n  </tbody>\n</table>\n<p>3681 rows × 26 columns</p>\n</div>"
     },
     "execution_count": 115,
     "metadata": {},
     "output_type": "execute_result"
    }
   ],
   "source": [
    "#Merging the drivers CSV file and saving it to merge1\n",
    "merge1 = pd.merge(results, drivers, how=\"inner\", on=\"driverId\")\n",
    "merge1"
   ],
   "metadata": {
    "collapsed": false
   }
  },
  {
   "cell_type": "code",
   "execution_count": 116,
   "outputs": [
    {
     "data": {
      "text/plain": "   resultId  raceId  driverId  constructorId  number_x  grid positionText  \\\n0         1      18         1              1      22.0     1            1   \n1        27      19         1              1      22.0     9            5   \n2        69      21         1              1      22.0     5            3   \n3        90      22         1              1      22.0     3            2   \n4       109      23         1              1      22.0     3            1   \n\n   positionOrder         time  milliseconds  fastestLap  rank fastestLapTime  \\\n0              1  1:34:50.616     5690616.0        39.0   2.0       1:27.452   \n1              5       46.548     5525103.0        53.0   3.0       1:35.462   \n2              3        4.187     5903238.0        20.0   3.0       1:22.017   \n3              2        3.779     5213230.0        31.0   2.0       1:26.529   \n4              1  2:00:42.742     7242742.0        71.0   6.0       1:18.510   \n\n   fastestLapSpeed  statusId driverRef   surname  \n0          218.300         1  hamilton  Hamilton  \n1          209.033         1  hamilton  Hamilton  \n2          204.323         1  hamilton  Hamilton  \n3          222.085         1  hamilton  Hamilton  \n4          153.152         1  hamilton  Hamilton  ",
      "text/html": "<div>\n<style scoped>\n    .dataframe tbody tr th:only-of-type {\n        vertical-align: middle;\n    }\n\n    .dataframe tbody tr th {\n        vertical-align: top;\n    }\n\n    .dataframe thead th {\n        text-align: right;\n    }\n</style>\n<table border=\"1\" class=\"dataframe\">\n  <thead>\n    <tr style=\"text-align: right;\">\n      <th></th>\n      <th>resultId</th>\n      <th>raceId</th>\n      <th>driverId</th>\n      <th>constructorId</th>\n      <th>number_x</th>\n      <th>grid</th>\n      <th>positionText</th>\n      <th>positionOrder</th>\n      <th>time</th>\n      <th>milliseconds</th>\n      <th>fastestLap</th>\n      <th>rank</th>\n      <th>fastestLapTime</th>\n      <th>fastestLapSpeed</th>\n      <th>statusId</th>\n      <th>driverRef</th>\n      <th>surname</th>\n    </tr>\n  </thead>\n  <tbody>\n    <tr>\n      <th>0</th>\n      <td>1</td>\n      <td>18</td>\n      <td>1</td>\n      <td>1</td>\n      <td>22.0</td>\n      <td>1</td>\n      <td>1</td>\n      <td>1</td>\n      <td>1:34:50.616</td>\n      <td>5690616.0</td>\n      <td>39.0</td>\n      <td>2.0</td>\n      <td>1:27.452</td>\n      <td>218.300</td>\n      <td>1</td>\n      <td>hamilton</td>\n      <td>Hamilton</td>\n    </tr>\n    <tr>\n      <th>1</th>\n      <td>27</td>\n      <td>19</td>\n      <td>1</td>\n      <td>1</td>\n      <td>22.0</td>\n      <td>9</td>\n      <td>5</td>\n      <td>5</td>\n      <td>46.548</td>\n      <td>5525103.0</td>\n      <td>53.0</td>\n      <td>3.0</td>\n      <td>1:35.462</td>\n      <td>209.033</td>\n      <td>1</td>\n      <td>hamilton</td>\n      <td>Hamilton</td>\n    </tr>\n    <tr>\n      <th>2</th>\n      <td>69</td>\n      <td>21</td>\n      <td>1</td>\n      <td>1</td>\n      <td>22.0</td>\n      <td>5</td>\n      <td>3</td>\n      <td>3</td>\n      <td>4.187</td>\n      <td>5903238.0</td>\n      <td>20.0</td>\n      <td>3.0</td>\n      <td>1:22.017</td>\n      <td>204.323</td>\n      <td>1</td>\n      <td>hamilton</td>\n      <td>Hamilton</td>\n    </tr>\n    <tr>\n      <th>3</th>\n      <td>90</td>\n      <td>22</td>\n      <td>1</td>\n      <td>1</td>\n      <td>22.0</td>\n      <td>3</td>\n      <td>2</td>\n      <td>2</td>\n      <td>3.779</td>\n      <td>5213230.0</td>\n      <td>31.0</td>\n      <td>2.0</td>\n      <td>1:26.529</td>\n      <td>222.085</td>\n      <td>1</td>\n      <td>hamilton</td>\n      <td>Hamilton</td>\n    </tr>\n    <tr>\n      <th>4</th>\n      <td>109</td>\n      <td>23</td>\n      <td>1</td>\n      <td>1</td>\n      <td>22.0</td>\n      <td>3</td>\n      <td>1</td>\n      <td>1</td>\n      <td>2:00:42.742</td>\n      <td>7242742.0</td>\n      <td>71.0</td>\n      <td>6.0</td>\n      <td>1:18.510</td>\n      <td>153.152</td>\n      <td>1</td>\n      <td>hamilton</td>\n      <td>Hamilton</td>\n    </tr>\n  </tbody>\n</table>\n</div>"
     },
     "execution_count": 116,
     "metadata": {},
     "output_type": "execute_result"
    }
   ],
   "source": [
    "#Drop columns we don't need to clean up table\n",
    "#Dropping columns : points, position, laps, url, nationality, dob,forename, code, number_y\n",
    "merge1 = merge1.drop(['points', 'position','laps','url','nationality','dob','forename','code','number_y'], axis = 1)\n",
    "merge1.head()"
   ],
   "metadata": {
    "collapsed": false
   }
  },
  {
   "cell_type": "code",
   "execution_count": 117,
   "outputs": [
    {
     "data": {
      "text/plain": "   statusId        status\n0         1      Finished\n1         2  Disqualified\n2         3      Accident\n3         4     Collision\n4         5        Engine",
      "text/html": "<div>\n<style scoped>\n    .dataframe tbody tr th:only-of-type {\n        vertical-align: middle;\n    }\n\n    .dataframe tbody tr th {\n        vertical-align: top;\n    }\n\n    .dataframe thead th {\n        text-align: right;\n    }\n</style>\n<table border=\"1\" class=\"dataframe\">\n  <thead>\n    <tr style=\"text-align: right;\">\n      <th></th>\n      <th>statusId</th>\n      <th>status</th>\n    </tr>\n  </thead>\n  <tbody>\n    <tr>\n      <th>0</th>\n      <td>1</td>\n      <td>Finished</td>\n    </tr>\n    <tr>\n      <th>1</th>\n      <td>2</td>\n      <td>Disqualified</td>\n    </tr>\n    <tr>\n      <th>2</th>\n      <td>3</td>\n      <td>Accident</td>\n    </tr>\n    <tr>\n      <th>3</th>\n      <td>4</td>\n      <td>Collision</td>\n    </tr>\n    <tr>\n      <th>4</th>\n      <td>5</td>\n      <td>Engine</td>\n    </tr>\n  </tbody>\n</table>\n</div>"
     },
     "execution_count": 117,
     "metadata": {},
     "output_type": "execute_result"
    }
   ],
   "source": [
    "#Reading the status CSV file\n",
    "status = pd.read_csv(\"status.csv\", encoding = \"ISO-8859-1\")\n",
    "status.head()"
   ],
   "metadata": {
    "collapsed": false
   }
  },
  {
   "cell_type": "code",
   "execution_count": 118,
   "outputs": [
    {
     "data": {
      "text/plain": "   resultId  raceId  driverId  constructorId  number_x  grid positionText  \\\n0         1      18         1              1      22.0     1            1   \n1        27      19         1              1      22.0     9            5   \n2        69      21         1              1      22.0     5            3   \n3        90      22         1              1      22.0     3            2   \n4       109      23         1              1      22.0     3            1   \n\n   positionOrder         time  milliseconds  fastestLap  rank fastestLapTime  \\\n0              1  1:34:50.616     5690616.0        39.0   2.0       1:27.452   \n1              5       46.548     5525103.0        53.0   3.0       1:35.462   \n2              3        4.187     5903238.0        20.0   3.0       1:22.017   \n3              2        3.779     5213230.0        31.0   2.0       1:26.529   \n4              1  2:00:42.742     7242742.0        71.0   6.0       1:18.510   \n\n   fastestLapSpeed  statusId driverRef   surname    status  \n0          218.300         1  hamilton  Hamilton  Finished  \n1          209.033         1  hamilton  Hamilton  Finished  \n2          204.323         1  hamilton  Hamilton  Finished  \n3          222.085         1  hamilton  Hamilton  Finished  \n4          153.152         1  hamilton  Hamilton  Finished  ",
      "text/html": "<div>\n<style scoped>\n    .dataframe tbody tr th:only-of-type {\n        vertical-align: middle;\n    }\n\n    .dataframe tbody tr th {\n        vertical-align: top;\n    }\n\n    .dataframe thead th {\n        text-align: right;\n    }\n</style>\n<table border=\"1\" class=\"dataframe\">\n  <thead>\n    <tr style=\"text-align: right;\">\n      <th></th>\n      <th>resultId</th>\n      <th>raceId</th>\n      <th>driverId</th>\n      <th>constructorId</th>\n      <th>number_x</th>\n      <th>grid</th>\n      <th>positionText</th>\n      <th>positionOrder</th>\n      <th>time</th>\n      <th>milliseconds</th>\n      <th>fastestLap</th>\n      <th>rank</th>\n      <th>fastestLapTime</th>\n      <th>fastestLapSpeed</th>\n      <th>statusId</th>\n      <th>driverRef</th>\n      <th>surname</th>\n      <th>status</th>\n    </tr>\n  </thead>\n  <tbody>\n    <tr>\n      <th>0</th>\n      <td>1</td>\n      <td>18</td>\n      <td>1</td>\n      <td>1</td>\n      <td>22.0</td>\n      <td>1</td>\n      <td>1</td>\n      <td>1</td>\n      <td>1:34:50.616</td>\n      <td>5690616.0</td>\n      <td>39.0</td>\n      <td>2.0</td>\n      <td>1:27.452</td>\n      <td>218.300</td>\n      <td>1</td>\n      <td>hamilton</td>\n      <td>Hamilton</td>\n      <td>Finished</td>\n    </tr>\n    <tr>\n      <th>1</th>\n      <td>27</td>\n      <td>19</td>\n      <td>1</td>\n      <td>1</td>\n      <td>22.0</td>\n      <td>9</td>\n      <td>5</td>\n      <td>5</td>\n      <td>46.548</td>\n      <td>5525103.0</td>\n      <td>53.0</td>\n      <td>3.0</td>\n      <td>1:35.462</td>\n      <td>209.033</td>\n      <td>1</td>\n      <td>hamilton</td>\n      <td>Hamilton</td>\n      <td>Finished</td>\n    </tr>\n    <tr>\n      <th>2</th>\n      <td>69</td>\n      <td>21</td>\n      <td>1</td>\n      <td>1</td>\n      <td>22.0</td>\n      <td>5</td>\n      <td>3</td>\n      <td>3</td>\n      <td>4.187</td>\n      <td>5903238.0</td>\n      <td>20.0</td>\n      <td>3.0</td>\n      <td>1:22.017</td>\n      <td>204.323</td>\n      <td>1</td>\n      <td>hamilton</td>\n      <td>Hamilton</td>\n      <td>Finished</td>\n    </tr>\n    <tr>\n      <th>3</th>\n      <td>90</td>\n      <td>22</td>\n      <td>1</td>\n      <td>1</td>\n      <td>22.0</td>\n      <td>3</td>\n      <td>2</td>\n      <td>2</td>\n      <td>3.779</td>\n      <td>5213230.0</td>\n      <td>31.0</td>\n      <td>2.0</td>\n      <td>1:26.529</td>\n      <td>222.085</td>\n      <td>1</td>\n      <td>hamilton</td>\n      <td>Hamilton</td>\n      <td>Finished</td>\n    </tr>\n    <tr>\n      <th>4</th>\n      <td>109</td>\n      <td>23</td>\n      <td>1</td>\n      <td>1</td>\n      <td>22.0</td>\n      <td>3</td>\n      <td>1</td>\n      <td>1</td>\n      <td>2:00:42.742</td>\n      <td>7242742.0</td>\n      <td>71.0</td>\n      <td>6.0</td>\n      <td>1:18.510</td>\n      <td>153.152</td>\n      <td>1</td>\n      <td>hamilton</td>\n      <td>Hamilton</td>\n      <td>Finished</td>\n    </tr>\n  </tbody>\n</table>\n</div>"
     },
     "execution_count": 118,
     "metadata": {},
     "output_type": "execute_result"
    }
   ],
   "source": [
    "#merging merge1 and status and saving it as merge2\n",
    "merge2 = pd.merge(merge1, status, how=\"inner\", on=\"statusId\")\n",
    "merge2.head()"
   ],
   "metadata": {
    "collapsed": false
   }
  },
  {
   "cell_type": "code",
   "execution_count": 119,
   "outputs": [
    {
     "data": {
      "text/plain": "   resultId  raceId  constructorId  number_x  grid positionText  \\\n0         1      18              1      22.0     1            1   \n1        27      19              1      22.0     9            5   \n2        69      21              1      22.0     5            3   \n3        90      22              1      22.0     3            2   \n4       109      23              1      22.0     3            1   \n\n   positionOrder         time  milliseconds  fastestLap  rank fastestLapTime  \\\n0              1  1:34:50.616     5690616.0        39.0   2.0       1:27.452   \n1              5       46.548     5525103.0        53.0   3.0       1:35.462   \n2              3        4.187     5903238.0        20.0   3.0       1:22.017   \n3              2        3.779     5213230.0        31.0   2.0       1:26.529   \n4              1  2:00:42.742     7242742.0        71.0   6.0       1:18.510   \n\n   fastestLapSpeed   surname    status  \n0          218.300  Hamilton  Finished  \n1          209.033  Hamilton  Finished  \n2          204.323  Hamilton  Finished  \n3          222.085  Hamilton  Finished  \n4          153.152  Hamilton  Finished  ",
      "text/html": "<div>\n<style scoped>\n    .dataframe tbody tr th:only-of-type {\n        vertical-align: middle;\n    }\n\n    .dataframe tbody tr th {\n        vertical-align: top;\n    }\n\n    .dataframe thead th {\n        text-align: right;\n    }\n</style>\n<table border=\"1\" class=\"dataframe\">\n  <thead>\n    <tr style=\"text-align: right;\">\n      <th></th>\n      <th>resultId</th>\n      <th>raceId</th>\n      <th>constructorId</th>\n      <th>number_x</th>\n      <th>grid</th>\n      <th>positionText</th>\n      <th>positionOrder</th>\n      <th>time</th>\n      <th>milliseconds</th>\n      <th>fastestLap</th>\n      <th>rank</th>\n      <th>fastestLapTime</th>\n      <th>fastestLapSpeed</th>\n      <th>surname</th>\n      <th>status</th>\n    </tr>\n  </thead>\n  <tbody>\n    <tr>\n      <th>0</th>\n      <td>1</td>\n      <td>18</td>\n      <td>1</td>\n      <td>22.0</td>\n      <td>1</td>\n      <td>1</td>\n      <td>1</td>\n      <td>1:34:50.616</td>\n      <td>5690616.0</td>\n      <td>39.0</td>\n      <td>2.0</td>\n      <td>1:27.452</td>\n      <td>218.300</td>\n      <td>Hamilton</td>\n      <td>Finished</td>\n    </tr>\n    <tr>\n      <th>1</th>\n      <td>27</td>\n      <td>19</td>\n      <td>1</td>\n      <td>22.0</td>\n      <td>9</td>\n      <td>5</td>\n      <td>5</td>\n      <td>46.548</td>\n      <td>5525103.0</td>\n      <td>53.0</td>\n      <td>3.0</td>\n      <td>1:35.462</td>\n      <td>209.033</td>\n      <td>Hamilton</td>\n      <td>Finished</td>\n    </tr>\n    <tr>\n      <th>2</th>\n      <td>69</td>\n      <td>21</td>\n      <td>1</td>\n      <td>22.0</td>\n      <td>5</td>\n      <td>3</td>\n      <td>3</td>\n      <td>4.187</td>\n      <td>5903238.0</td>\n      <td>20.0</td>\n      <td>3.0</td>\n      <td>1:22.017</td>\n      <td>204.323</td>\n      <td>Hamilton</td>\n      <td>Finished</td>\n    </tr>\n    <tr>\n      <th>3</th>\n      <td>90</td>\n      <td>22</td>\n      <td>1</td>\n      <td>22.0</td>\n      <td>3</td>\n      <td>2</td>\n      <td>2</td>\n      <td>3.779</td>\n      <td>5213230.0</td>\n      <td>31.0</td>\n      <td>2.0</td>\n      <td>1:26.529</td>\n      <td>222.085</td>\n      <td>Hamilton</td>\n      <td>Finished</td>\n    </tr>\n    <tr>\n      <th>4</th>\n      <td>109</td>\n      <td>23</td>\n      <td>1</td>\n      <td>22.0</td>\n      <td>3</td>\n      <td>1</td>\n      <td>1</td>\n      <td>2:00:42.742</td>\n      <td>7242742.0</td>\n      <td>71.0</td>\n      <td>6.0</td>\n      <td>1:18.510</td>\n      <td>153.152</td>\n      <td>Hamilton</td>\n      <td>Finished</td>\n    </tr>\n  </tbody>\n</table>\n</div>"
     },
     "execution_count": 119,
     "metadata": {},
     "output_type": "execute_result"
    }
   ],
   "source": [
    "# dropping columns : 'driverId, statusID, driverRef'\n",
    "merge2 = merge2.drop(['driverId', 'statusId', 'driverRef'], axis = 1)\n",
    "merge2.head()"
   ],
   "metadata": {
    "collapsed": false
   }
  },
  {
   "cell_type": "code",
   "execution_count": 120,
   "outputs": [
    {
     "data": {
      "text/plain": "   raceId  year                   name\n0       1  2009  Australian Grand Prix\n1       2  2009   Malaysian Grand Prix\n2       3  2009     Chinese Grand Prix\n3       4  2009     Bahrain Grand Prix\n4       5  2009     Spanish Grand Prix",
      "text/html": "<div>\n<style scoped>\n    .dataframe tbody tr th:only-of-type {\n        vertical-align: middle;\n    }\n\n    .dataframe tbody tr th {\n        vertical-align: top;\n    }\n\n    .dataframe thead th {\n        text-align: right;\n    }\n</style>\n<table border=\"1\" class=\"dataframe\">\n  <thead>\n    <tr style=\"text-align: right;\">\n      <th></th>\n      <th>raceId</th>\n      <th>year</th>\n      <th>name</th>\n    </tr>\n  </thead>\n  <tbody>\n    <tr>\n      <th>0</th>\n      <td>1</td>\n      <td>2009</td>\n      <td>Australian Grand Prix</td>\n    </tr>\n    <tr>\n      <th>1</th>\n      <td>2</td>\n      <td>2009</td>\n      <td>Malaysian Grand Prix</td>\n    </tr>\n    <tr>\n      <th>2</th>\n      <td>3</td>\n      <td>2009</td>\n      <td>Chinese Grand Prix</td>\n    </tr>\n    <tr>\n      <th>3</th>\n      <td>4</td>\n      <td>2009</td>\n      <td>Bahrain Grand Prix</td>\n    </tr>\n    <tr>\n      <th>4</th>\n      <td>5</td>\n      <td>2009</td>\n      <td>Spanish Grand Prix</td>\n    </tr>\n  </tbody>\n</table>\n</div>"
     },
     "execution_count": 120,
     "metadata": {},
     "output_type": "execute_result"
    }
   ],
   "source": [
    "#Reading races.csv, dropping columns 'round','circuitId', 'date', 'time', 'url', 'fp1_date',\t'fp1_time',\t'fp2_date',\t'fp2_time',\t'fp3_date',\t'fp3_time',\t'quali_date',\t'quali_time',\t'sprint_date',\t'sprint_time'\n",
    "races = pd.read_csv(\"races.csv\", encoding=\"ISO-8859-1\")\n",
    "races = races.drop(['round','circuitId', 'date', 'time', 'url', 'fp1_date',\t'fp1_time',\t'fp2_date',\t'fp2_time',\t'fp3_date',\t'fp3_time',\t'quali_date',\t'quali_time',\t'sprint_date',\t'sprint_time'],axis = 1)\n",
    "races.head()"
   ],
   "metadata": {
    "collapsed": false
   }
  },
  {
   "cell_type": "code",
   "execution_count": 121,
   "outputs": [
    {
     "data": {
      "text/plain": "   resultId  raceId  constructorId  number_x  grid positionText  \\\n0         1      18              1      22.0     1            1   \n1         2      18              2       3.0     5            2   \n2         3      18              3       7.0     7            3   \n3         4      18              4       5.0    11            4   \n4         5      18              1      23.0     3            5   \n\n   positionOrder         time  milliseconds  fastestLap  rank fastestLapTime  \\\n0              1  1:34:50.616     5690616.0        39.0   2.0       1:27.452   \n1              2        5.478     5696094.0        41.0   3.0       1:27.739   \n2              3        8.163     5698779.0        41.0   5.0       1:28.090   \n3              4       17.181     5707797.0        58.0   7.0       1:28.603   \n4              5       18.014     5708630.0        43.0   1.0       1:27.418   \n\n   fastestLapSpeed     surname    status  year                   name  \n0          218.300    Hamilton  Finished  2008  Australian Grand Prix  \n1          217.586    Heidfeld  Finished  2008  Australian Grand Prix  \n2          216.719     Rosberg  Finished  2008  Australian Grand Prix  \n3          215.464      Alonso  Finished  2008  Australian Grand Prix  \n4          218.385  Kovalainen  Finished  2008  Australian Grand Prix  ",
      "text/html": "<div>\n<style scoped>\n    .dataframe tbody tr th:only-of-type {\n        vertical-align: middle;\n    }\n\n    .dataframe tbody tr th {\n        vertical-align: top;\n    }\n\n    .dataframe thead th {\n        text-align: right;\n    }\n</style>\n<table border=\"1\" class=\"dataframe\">\n  <thead>\n    <tr style=\"text-align: right;\">\n      <th></th>\n      <th>resultId</th>\n      <th>raceId</th>\n      <th>constructorId</th>\n      <th>number_x</th>\n      <th>grid</th>\n      <th>positionText</th>\n      <th>positionOrder</th>\n      <th>time</th>\n      <th>milliseconds</th>\n      <th>fastestLap</th>\n      <th>rank</th>\n      <th>fastestLapTime</th>\n      <th>fastestLapSpeed</th>\n      <th>surname</th>\n      <th>status</th>\n      <th>year</th>\n      <th>name</th>\n    </tr>\n  </thead>\n  <tbody>\n    <tr>\n      <th>0</th>\n      <td>1</td>\n      <td>18</td>\n      <td>1</td>\n      <td>22.0</td>\n      <td>1</td>\n      <td>1</td>\n      <td>1</td>\n      <td>1:34:50.616</td>\n      <td>5690616.0</td>\n      <td>39.0</td>\n      <td>2.0</td>\n      <td>1:27.452</td>\n      <td>218.300</td>\n      <td>Hamilton</td>\n      <td>Finished</td>\n      <td>2008</td>\n      <td>Australian Grand Prix</td>\n    </tr>\n    <tr>\n      <th>1</th>\n      <td>2</td>\n      <td>18</td>\n      <td>2</td>\n      <td>3.0</td>\n      <td>5</td>\n      <td>2</td>\n      <td>2</td>\n      <td>5.478</td>\n      <td>5696094.0</td>\n      <td>41.0</td>\n      <td>3.0</td>\n      <td>1:27.739</td>\n      <td>217.586</td>\n      <td>Heidfeld</td>\n      <td>Finished</td>\n      <td>2008</td>\n      <td>Australian Grand Prix</td>\n    </tr>\n    <tr>\n      <th>2</th>\n      <td>3</td>\n      <td>18</td>\n      <td>3</td>\n      <td>7.0</td>\n      <td>7</td>\n      <td>3</td>\n      <td>3</td>\n      <td>8.163</td>\n      <td>5698779.0</td>\n      <td>41.0</td>\n      <td>5.0</td>\n      <td>1:28.090</td>\n      <td>216.719</td>\n      <td>Rosberg</td>\n      <td>Finished</td>\n      <td>2008</td>\n      <td>Australian Grand Prix</td>\n    </tr>\n    <tr>\n      <th>3</th>\n      <td>4</td>\n      <td>18</td>\n      <td>4</td>\n      <td>5.0</td>\n      <td>11</td>\n      <td>4</td>\n      <td>4</td>\n      <td>17.181</td>\n      <td>5707797.0</td>\n      <td>58.0</td>\n      <td>7.0</td>\n      <td>1:28.603</td>\n      <td>215.464</td>\n      <td>Alonso</td>\n      <td>Finished</td>\n      <td>2008</td>\n      <td>Australian Grand Prix</td>\n    </tr>\n    <tr>\n      <th>4</th>\n      <td>5</td>\n      <td>18</td>\n      <td>1</td>\n      <td>23.0</td>\n      <td>3</td>\n      <td>5</td>\n      <td>5</td>\n      <td>18.014</td>\n      <td>5708630.0</td>\n      <td>43.0</td>\n      <td>1.0</td>\n      <td>1:27.418</td>\n      <td>218.385</td>\n      <td>Kovalainen</td>\n      <td>Finished</td>\n      <td>2008</td>\n      <td>Australian Grand Prix</td>\n    </tr>\n  </tbody>\n</table>\n</div>"
     },
     "execution_count": 121,
     "metadata": {},
     "output_type": "execute_result"
    }
   ],
   "source": [
    "# merge races and merge2 and save it merge3\n",
    "merge3 = pd.merge(merge2, races, how=\"inner\", on='raceId')\n",
    "merge3.head()"
   ],
   "metadata": {
    "collapsed": false
   }
  },
  {
   "cell_type": "code",
   "execution_count": 122,
   "outputs": [
    {
     "data": {
      "text/plain": "   resultId  raceId  constructorId  number_x  grid positionText  \\\n0         1      18              1      22.0     1            1   \n1         5      18              1      23.0     3            5   \n2        27      19              1      22.0     9            5   \n3        25      19              1      23.0     8            3   \n4        69      21              1      22.0     5            3   \n\n   positionOrder         time  milliseconds  fastestLap  rank fastestLapTime  \\\n0              1  1:34:50.616     5690616.0        39.0   2.0       1:27.452   \n1              5       18.014     5708630.0        43.0   1.0       1:27.418   \n2              5       46.548     5525103.0        53.0   3.0       1:35.462   \n3              3       38.450     5517005.0        19.0   7.0       1:35.922   \n4              3        4.187     5903238.0        20.0   3.0       1:22.017   \n\n   fastestLapSpeed     surname    status  year                 name_x   name_y  \n0          218.300    Hamilton  Finished  2008  Australian Grand Prix  McLaren  \n1          218.385  Kovalainen  Finished  2008  Australian Grand Prix  McLaren  \n2          209.033    Hamilton  Finished  2008   Malaysian Grand Prix  McLaren  \n3          208.031  Kovalainen  Finished  2008   Malaysian Grand Prix  McLaren  \n4          204.323    Hamilton  Finished  2008     Spanish Grand Prix  McLaren  ",
      "text/html": "<div>\n<style scoped>\n    .dataframe tbody tr th:only-of-type {\n        vertical-align: middle;\n    }\n\n    .dataframe tbody tr th {\n        vertical-align: top;\n    }\n\n    .dataframe thead th {\n        text-align: right;\n    }\n</style>\n<table border=\"1\" class=\"dataframe\">\n  <thead>\n    <tr style=\"text-align: right;\">\n      <th></th>\n      <th>resultId</th>\n      <th>raceId</th>\n      <th>constructorId</th>\n      <th>number_x</th>\n      <th>grid</th>\n      <th>positionText</th>\n      <th>positionOrder</th>\n      <th>time</th>\n      <th>milliseconds</th>\n      <th>fastestLap</th>\n      <th>rank</th>\n      <th>fastestLapTime</th>\n      <th>fastestLapSpeed</th>\n      <th>surname</th>\n      <th>status</th>\n      <th>year</th>\n      <th>name_x</th>\n      <th>name_y</th>\n    </tr>\n  </thead>\n  <tbody>\n    <tr>\n      <th>0</th>\n      <td>1</td>\n      <td>18</td>\n      <td>1</td>\n      <td>22.0</td>\n      <td>1</td>\n      <td>1</td>\n      <td>1</td>\n      <td>1:34:50.616</td>\n      <td>5690616.0</td>\n      <td>39.0</td>\n      <td>2.0</td>\n      <td>1:27.452</td>\n      <td>218.300</td>\n      <td>Hamilton</td>\n      <td>Finished</td>\n      <td>2008</td>\n      <td>Australian Grand Prix</td>\n      <td>McLaren</td>\n    </tr>\n    <tr>\n      <th>1</th>\n      <td>5</td>\n      <td>18</td>\n      <td>1</td>\n      <td>23.0</td>\n      <td>3</td>\n      <td>5</td>\n      <td>5</td>\n      <td>18.014</td>\n      <td>5708630.0</td>\n      <td>43.0</td>\n      <td>1.0</td>\n      <td>1:27.418</td>\n      <td>218.385</td>\n      <td>Kovalainen</td>\n      <td>Finished</td>\n      <td>2008</td>\n      <td>Australian Grand Prix</td>\n      <td>McLaren</td>\n    </tr>\n    <tr>\n      <th>2</th>\n      <td>27</td>\n      <td>19</td>\n      <td>1</td>\n      <td>22.0</td>\n      <td>9</td>\n      <td>5</td>\n      <td>5</td>\n      <td>46.548</td>\n      <td>5525103.0</td>\n      <td>53.0</td>\n      <td>3.0</td>\n      <td>1:35.462</td>\n      <td>209.033</td>\n      <td>Hamilton</td>\n      <td>Finished</td>\n      <td>2008</td>\n      <td>Malaysian Grand Prix</td>\n      <td>McLaren</td>\n    </tr>\n    <tr>\n      <th>3</th>\n      <td>25</td>\n      <td>19</td>\n      <td>1</td>\n      <td>23.0</td>\n      <td>8</td>\n      <td>3</td>\n      <td>3</td>\n      <td>38.450</td>\n      <td>5517005.0</td>\n      <td>19.0</td>\n      <td>7.0</td>\n      <td>1:35.922</td>\n      <td>208.031</td>\n      <td>Kovalainen</td>\n      <td>Finished</td>\n      <td>2008</td>\n      <td>Malaysian Grand Prix</td>\n      <td>McLaren</td>\n    </tr>\n    <tr>\n      <th>4</th>\n      <td>69</td>\n      <td>21</td>\n      <td>1</td>\n      <td>22.0</td>\n      <td>5</td>\n      <td>3</td>\n      <td>3</td>\n      <td>4.187</td>\n      <td>5903238.0</td>\n      <td>20.0</td>\n      <td>3.0</td>\n      <td>1:22.017</td>\n      <td>204.323</td>\n      <td>Hamilton</td>\n      <td>Finished</td>\n      <td>2008</td>\n      <td>Spanish Grand Prix</td>\n      <td>McLaren</td>\n    </tr>\n  </tbody>\n</table>\n</div>"
     },
     "execution_count": 122,
     "metadata": {},
     "output_type": "execute_result"
    }
   ],
   "source": [
    "# reading constructors.csv\n",
    "constructors = pd.read_csv(\"constructors.csv\", encoding=\"ISO-8859-1\")\n",
    "# dropping columns: constructorRef, nationality, url\n",
    "constructors = constructors.drop(['constructorRef', 'nationality', 'url'], axis = 1)\n",
    "#merging constructors and merge 3 and saving it to merge 4\n",
    "merge4 = pd.merge(merge3, constructors, how=\"inner\", on = 'constructorId')\n",
    "merge4.head()"
   ],
   "metadata": {
    "collapsed": false
   }
  },
  {
   "cell_type": "code",
   "execution_count": 123,
   "outputs": [
    {
     "data": {
      "text/plain": "   resultId  grid  positionOrder  fastestLap fastestLapTime  fastestLapSpeed  \\\n0         1     1              1        39.0       1:27.452          218.300   \n1         5     3              5        43.0       1:27.418          218.385   \n2        27     9              5        53.0       1:35.462          209.033   \n3        25     8              3        19.0       1:35.922          208.031   \n4        69     5              3        20.0       1:22.017          204.323   \n5        90     3              2        31.0       1:26.529          222.085   \n6       109     3              1        71.0       1:18.510          153.152   \n7       116     4              8        74.0       1:17.282          155.586   \n8       158    13             10        40.0       1:17.453          205.022   \n9       152    10              4        46.0       1:17.134          205.870   \n\n      surname    status  year                 name_x   name_y  \n0    Hamilton  Finished  2008  Australian Grand Prix  McLaren  \n1  Kovalainen  Finished  2008  Australian Grand Prix  McLaren  \n2    Hamilton  Finished  2008   Malaysian Grand Prix  McLaren  \n3  Kovalainen  Finished  2008   Malaysian Grand Prix  McLaren  \n4    Hamilton  Finished  2008     Spanish Grand Prix  McLaren  \n5    Hamilton  Finished  2008     Turkish Grand Prix  McLaren  \n6    Hamilton  Finished  2008      Monaco Grand Prix  McLaren  \n7  Kovalainen  Finished  2008      Monaco Grand Prix  McLaren  \n8    Hamilton  Finished  2008      French Grand Prix  McLaren  \n9  Kovalainen  Finished  2008      French Grand Prix  McLaren  ",
      "text/html": "<div>\n<style scoped>\n    .dataframe tbody tr th:only-of-type {\n        vertical-align: middle;\n    }\n\n    .dataframe tbody tr th {\n        vertical-align: top;\n    }\n\n    .dataframe thead th {\n        text-align: right;\n    }\n</style>\n<table border=\"1\" class=\"dataframe\">\n  <thead>\n    <tr style=\"text-align: right;\">\n      <th></th>\n      <th>resultId</th>\n      <th>grid</th>\n      <th>positionOrder</th>\n      <th>fastestLap</th>\n      <th>fastestLapTime</th>\n      <th>fastestLapSpeed</th>\n      <th>surname</th>\n      <th>status</th>\n      <th>year</th>\n      <th>name_x</th>\n      <th>name_y</th>\n    </tr>\n  </thead>\n  <tbody>\n    <tr>\n      <th>0</th>\n      <td>1</td>\n      <td>1</td>\n      <td>1</td>\n      <td>39.0</td>\n      <td>1:27.452</td>\n      <td>218.300</td>\n      <td>Hamilton</td>\n      <td>Finished</td>\n      <td>2008</td>\n      <td>Australian Grand Prix</td>\n      <td>McLaren</td>\n    </tr>\n    <tr>\n      <th>1</th>\n      <td>5</td>\n      <td>3</td>\n      <td>5</td>\n      <td>43.0</td>\n      <td>1:27.418</td>\n      <td>218.385</td>\n      <td>Kovalainen</td>\n      <td>Finished</td>\n      <td>2008</td>\n      <td>Australian Grand Prix</td>\n      <td>McLaren</td>\n    </tr>\n    <tr>\n      <th>2</th>\n      <td>27</td>\n      <td>9</td>\n      <td>5</td>\n      <td>53.0</td>\n      <td>1:35.462</td>\n      <td>209.033</td>\n      <td>Hamilton</td>\n      <td>Finished</td>\n      <td>2008</td>\n      <td>Malaysian Grand Prix</td>\n      <td>McLaren</td>\n    </tr>\n    <tr>\n      <th>3</th>\n      <td>25</td>\n      <td>8</td>\n      <td>3</td>\n      <td>19.0</td>\n      <td>1:35.922</td>\n      <td>208.031</td>\n      <td>Kovalainen</td>\n      <td>Finished</td>\n      <td>2008</td>\n      <td>Malaysian Grand Prix</td>\n      <td>McLaren</td>\n    </tr>\n    <tr>\n      <th>4</th>\n      <td>69</td>\n      <td>5</td>\n      <td>3</td>\n      <td>20.0</td>\n      <td>1:22.017</td>\n      <td>204.323</td>\n      <td>Hamilton</td>\n      <td>Finished</td>\n      <td>2008</td>\n      <td>Spanish Grand Prix</td>\n      <td>McLaren</td>\n    </tr>\n    <tr>\n      <th>5</th>\n      <td>90</td>\n      <td>3</td>\n      <td>2</td>\n      <td>31.0</td>\n      <td>1:26.529</td>\n      <td>222.085</td>\n      <td>Hamilton</td>\n      <td>Finished</td>\n      <td>2008</td>\n      <td>Turkish Grand Prix</td>\n      <td>McLaren</td>\n    </tr>\n    <tr>\n      <th>6</th>\n      <td>109</td>\n      <td>3</td>\n      <td>1</td>\n      <td>71.0</td>\n      <td>1:18.510</td>\n      <td>153.152</td>\n      <td>Hamilton</td>\n      <td>Finished</td>\n      <td>2008</td>\n      <td>Monaco Grand Prix</td>\n      <td>McLaren</td>\n    </tr>\n    <tr>\n      <th>7</th>\n      <td>116</td>\n      <td>4</td>\n      <td>8</td>\n      <td>74.0</td>\n      <td>1:17.282</td>\n      <td>155.586</td>\n      <td>Kovalainen</td>\n      <td>Finished</td>\n      <td>2008</td>\n      <td>Monaco Grand Prix</td>\n      <td>McLaren</td>\n    </tr>\n    <tr>\n      <th>8</th>\n      <td>158</td>\n      <td>13</td>\n      <td>10</td>\n      <td>40.0</td>\n      <td>1:17.453</td>\n      <td>205.022</td>\n      <td>Hamilton</td>\n      <td>Finished</td>\n      <td>2008</td>\n      <td>French Grand Prix</td>\n      <td>McLaren</td>\n    </tr>\n    <tr>\n      <th>9</th>\n      <td>152</td>\n      <td>10</td>\n      <td>4</td>\n      <td>46.0</td>\n      <td>1:17.134</td>\n      <td>205.870</td>\n      <td>Kovalainen</td>\n      <td>Finished</td>\n      <td>2008</td>\n      <td>French Grand Prix</td>\n      <td>McLaren</td>\n    </tr>\n  </tbody>\n</table>\n</div>"
     },
     "execution_count": 123,
     "metadata": {},
     "output_type": "execute_result"
    }
   ],
   "source": [
    "#Dropping some final data that we do not need\n",
    "FinalData = merge4.drop(['constructorId','raceId','number_x', 'positionText', 'positionText', 'milliseconds', 'time', 'rank'], axis = 1)\n",
    "FinalData.head(10)"
   ],
   "metadata": {
    "collapsed": false
   }
  },
  {
   "cell_type": "code",
   "execution_count": 124,
   "outputs": [],
   "source": [
    "#saving to csv for protection over errors\n",
    "FinalData.to_csv('FinalData.csv', sep=',')"
   ],
   "metadata": {
    "collapsed": false
   }
  },
  {
   "cell_type": "code",
   "execution_count": 125,
   "outputs": [
    {
     "data": {
      "text/plain": "resultId           0\ngrid               0\npositionOrder      0\nfastestLap         0\nfastestLapTime     0\nfastestLapSpeed    0\nsurname            0\nstatus             0\nyear               0\nname_x             0\nname_y             0\ndtype: int64"
     },
     "execution_count": 125,
     "metadata": {},
     "output_type": "execute_result"
    }
   ],
   "source": [
    "#check for any null values\n",
    "FinalData.isnull().sum()"
   ],
   "metadata": {
    "collapsed": false
   }
  },
  {
   "cell_type": "markdown",
   "source": [
    "## Hence, Data is now CLEANED!"
   ],
   "metadata": {
    "collapsed": false
   }
  },
  {
   "cell_type": "code",
   "execution_count": 126,
   "outputs": [
    {
     "data": {
      "text/plain": "      resultId  grid  positionOrder  fastestLap fastestLapTime  \\\n2710     21526     6              7        53.0       1:27.239   \n3376     24777    16             12        48.0       1:24.785   \n912      24314     6              9        78.0       1:15.697   \n1769     20495     7              5        62.0       1:18.148   \n198      22724    16              9        65.0       1:28.535   \n2136      7801     9              8        50.0       1:25.194   \n2796     22736     1              1        34.0       1:52.504   \n3014     25250    16              5        31.0       1:38.216   \n1593     20588     3              2        67.0       1:23.195   \n1569      1538     3              4         7.0       1:35.350   \n3539     25763    17             18        13.0       1:46.545   \n687      23973    19             12        48.0       1:33.869   \n2911     24066     4              4        42.0       1:44.720   \n1064       311     2              3        66.0       1:18.995   \n765      22385     9             13        37.0       1:52.512   \n496       1058     3              8        20.0       1:23.294   \n236      24316    12             11        61.0       1:16.413   \n1306     23505     4              7        59.0       1:15.388   \n2417       204    20             16        67.0       1:18.208   \n2492     22101    11             16        54.0       1:41.148   \n\n      fastestLapSpeed      surname    status  year                    name_x  \\\n2710          239.053      Rosberg  Finished  2012        Italian Grand Prix   \n3376          245.972     Grosjean  Finished  2020        Italian Grand Prix   \n912           158.701    Ricciardo  Finished  2019         Monaco Grand Prix   \n1769          200.895       Webber  Finished  2010       Canadian Grand Prix   \n198           178.139       Button  Finished  2015      Hungarian Grand Prix   \n2136          244.791       Vettel  Finished  2009        Italian Grand Prix   \n2796          224.120     Hamilton  Finished  2015        Belgian Grand Prix   \n3014          214.352       Bottas  Finished  2021        Russian Grand Prix   \n1593          189.573       Alonso  Finished  2010      Hungarian Grand Prix   \n1569          209.279  Barrichello  Finished  2004      Malaysian Grand Prix   \n3539          196.210        Gasly  Finished  2022       Japanese Grand Prix   \n687           225.927       Stroll  Finished  2018        British Grand Prix   \n2911          174.052       Bottas  Finished  2018      Singapore Grand Prix   \n1064          207.947  RÃ¤ikkÃ¶nen  Finished  2008       Japanese Grand Prix   \n765           224.104        Massa  Finished  2014        Belgian Grand Prix   \n496           250.375     Heidfeld  Finished  2006        Italian Grand Prix   \n236           157.214       Norris  Finished  2019         Monaco Grand Prix   \n1306          208.250  RÃ¤ikkÃ¶nen  Finished  2017       Canadian Grand Prix   \n2417          210.546   Fisichella  Finished  2008         German Grand Prix   \n2492          196.215     di Resta  Finished  2013  United States Grand Prix   \n\n            name_y  \n2710      Mercedes  \n3376  Haas F1 Team  \n912        Renault  \n1769      Red Bull  \n198        McLaren  \n2136      Red Bull  \n2796      Mercedes  \n3014      Mercedes  \n1593       Ferrari  \n1569       Ferrari  \n3539    AlphaTauri  \n687       Williams  \n2911      Mercedes  \n1064       Ferrari  \n765       Williams  \n496     BMW Sauber  \n236        McLaren  \n1306       Ferrari  \n2417   Force India  \n2492   Force India  ",
      "text/html": "<div>\n<style scoped>\n    .dataframe tbody tr th:only-of-type {\n        vertical-align: middle;\n    }\n\n    .dataframe tbody tr th {\n        vertical-align: top;\n    }\n\n    .dataframe thead th {\n        text-align: right;\n    }\n</style>\n<table border=\"1\" class=\"dataframe\">\n  <thead>\n    <tr style=\"text-align: right;\">\n      <th></th>\n      <th>resultId</th>\n      <th>grid</th>\n      <th>positionOrder</th>\n      <th>fastestLap</th>\n      <th>fastestLapTime</th>\n      <th>fastestLapSpeed</th>\n      <th>surname</th>\n      <th>status</th>\n      <th>year</th>\n      <th>name_x</th>\n      <th>name_y</th>\n    </tr>\n  </thead>\n  <tbody>\n    <tr>\n      <th>2710</th>\n      <td>21526</td>\n      <td>6</td>\n      <td>7</td>\n      <td>53.0</td>\n      <td>1:27.239</td>\n      <td>239.053</td>\n      <td>Rosberg</td>\n      <td>Finished</td>\n      <td>2012</td>\n      <td>Italian Grand Prix</td>\n      <td>Mercedes</td>\n    </tr>\n    <tr>\n      <th>3376</th>\n      <td>24777</td>\n      <td>16</td>\n      <td>12</td>\n      <td>48.0</td>\n      <td>1:24.785</td>\n      <td>245.972</td>\n      <td>Grosjean</td>\n      <td>Finished</td>\n      <td>2020</td>\n      <td>Italian Grand Prix</td>\n      <td>Haas F1 Team</td>\n    </tr>\n    <tr>\n      <th>912</th>\n      <td>24314</td>\n      <td>6</td>\n      <td>9</td>\n      <td>78.0</td>\n      <td>1:15.697</td>\n      <td>158.701</td>\n      <td>Ricciardo</td>\n      <td>Finished</td>\n      <td>2019</td>\n      <td>Monaco Grand Prix</td>\n      <td>Renault</td>\n    </tr>\n    <tr>\n      <th>1769</th>\n      <td>20495</td>\n      <td>7</td>\n      <td>5</td>\n      <td>62.0</td>\n      <td>1:18.148</td>\n      <td>200.895</td>\n      <td>Webber</td>\n      <td>Finished</td>\n      <td>2010</td>\n      <td>Canadian Grand Prix</td>\n      <td>Red Bull</td>\n    </tr>\n    <tr>\n      <th>198</th>\n      <td>22724</td>\n      <td>16</td>\n      <td>9</td>\n      <td>65.0</td>\n      <td>1:28.535</td>\n      <td>178.139</td>\n      <td>Button</td>\n      <td>Finished</td>\n      <td>2015</td>\n      <td>Hungarian Grand Prix</td>\n      <td>McLaren</td>\n    </tr>\n    <tr>\n      <th>2136</th>\n      <td>7801</td>\n      <td>9</td>\n      <td>8</td>\n      <td>50.0</td>\n      <td>1:25.194</td>\n      <td>244.791</td>\n      <td>Vettel</td>\n      <td>Finished</td>\n      <td>2009</td>\n      <td>Italian Grand Prix</td>\n      <td>Red Bull</td>\n    </tr>\n    <tr>\n      <th>2796</th>\n      <td>22736</td>\n      <td>1</td>\n      <td>1</td>\n      <td>34.0</td>\n      <td>1:52.504</td>\n      <td>224.120</td>\n      <td>Hamilton</td>\n      <td>Finished</td>\n      <td>2015</td>\n      <td>Belgian Grand Prix</td>\n      <td>Mercedes</td>\n    </tr>\n    <tr>\n      <th>3014</th>\n      <td>25250</td>\n      <td>16</td>\n      <td>5</td>\n      <td>31.0</td>\n      <td>1:38.216</td>\n      <td>214.352</td>\n      <td>Bottas</td>\n      <td>Finished</td>\n      <td>2021</td>\n      <td>Russian Grand Prix</td>\n      <td>Mercedes</td>\n    </tr>\n    <tr>\n      <th>1593</th>\n      <td>20588</td>\n      <td>3</td>\n      <td>2</td>\n      <td>67.0</td>\n      <td>1:23.195</td>\n      <td>189.573</td>\n      <td>Alonso</td>\n      <td>Finished</td>\n      <td>2010</td>\n      <td>Hungarian Grand Prix</td>\n      <td>Ferrari</td>\n    </tr>\n    <tr>\n      <th>1569</th>\n      <td>1538</td>\n      <td>3</td>\n      <td>4</td>\n      <td>7.0</td>\n      <td>1:35.350</td>\n      <td>209.279</td>\n      <td>Barrichello</td>\n      <td>Finished</td>\n      <td>2004</td>\n      <td>Malaysian Grand Prix</td>\n      <td>Ferrari</td>\n    </tr>\n    <tr>\n      <th>3539</th>\n      <td>25763</td>\n      <td>17</td>\n      <td>18</td>\n      <td>13.0</td>\n      <td>1:46.545</td>\n      <td>196.210</td>\n      <td>Gasly</td>\n      <td>Finished</td>\n      <td>2022</td>\n      <td>Japanese Grand Prix</td>\n      <td>AlphaTauri</td>\n    </tr>\n    <tr>\n      <th>687</th>\n      <td>23973</td>\n      <td>19</td>\n      <td>12</td>\n      <td>48.0</td>\n      <td>1:33.869</td>\n      <td>225.927</td>\n      <td>Stroll</td>\n      <td>Finished</td>\n      <td>2018</td>\n      <td>British Grand Prix</td>\n      <td>Williams</td>\n    </tr>\n    <tr>\n      <th>2911</th>\n      <td>24066</td>\n      <td>4</td>\n      <td>4</td>\n      <td>42.0</td>\n      <td>1:44.720</td>\n      <td>174.052</td>\n      <td>Bottas</td>\n      <td>Finished</td>\n      <td>2018</td>\n      <td>Singapore Grand Prix</td>\n      <td>Mercedes</td>\n    </tr>\n    <tr>\n      <th>1064</th>\n      <td>311</td>\n      <td>2</td>\n      <td>3</td>\n      <td>66.0</td>\n      <td>1:18.995</td>\n      <td>207.947</td>\n      <td>RÃ¤ikkÃ¶nen</td>\n      <td>Finished</td>\n      <td>2008</td>\n      <td>Japanese Grand Prix</td>\n      <td>Ferrari</td>\n    </tr>\n    <tr>\n      <th>765</th>\n      <td>22385</td>\n      <td>9</td>\n      <td>13</td>\n      <td>37.0</td>\n      <td>1:52.512</td>\n      <td>224.104</td>\n      <td>Massa</td>\n      <td>Finished</td>\n      <td>2014</td>\n      <td>Belgian Grand Prix</td>\n      <td>Williams</td>\n    </tr>\n    <tr>\n      <th>496</th>\n      <td>1058</td>\n      <td>3</td>\n      <td>8</td>\n      <td>20.0</td>\n      <td>1:23.294</td>\n      <td>250.375</td>\n      <td>Heidfeld</td>\n      <td>Finished</td>\n      <td>2006</td>\n      <td>Italian Grand Prix</td>\n      <td>BMW Sauber</td>\n    </tr>\n    <tr>\n      <th>236</th>\n      <td>24316</td>\n      <td>12</td>\n      <td>11</td>\n      <td>61.0</td>\n      <td>1:16.413</td>\n      <td>157.214</td>\n      <td>Norris</td>\n      <td>Finished</td>\n      <td>2019</td>\n      <td>Monaco Grand Prix</td>\n      <td>McLaren</td>\n    </tr>\n    <tr>\n      <th>1306</th>\n      <td>23505</td>\n      <td>4</td>\n      <td>7</td>\n      <td>59.0</td>\n      <td>1:15.388</td>\n      <td>208.250</td>\n      <td>RÃ¤ikkÃ¶nen</td>\n      <td>Finished</td>\n      <td>2017</td>\n      <td>Canadian Grand Prix</td>\n      <td>Ferrari</td>\n    </tr>\n    <tr>\n      <th>2417</th>\n      <td>204</td>\n      <td>20</td>\n      <td>16</td>\n      <td>67.0</td>\n      <td>1:18.208</td>\n      <td>210.546</td>\n      <td>Fisichella</td>\n      <td>Finished</td>\n      <td>2008</td>\n      <td>German Grand Prix</td>\n      <td>Force India</td>\n    </tr>\n    <tr>\n      <th>2492</th>\n      <td>22101</td>\n      <td>11</td>\n      <td>16</td>\n      <td>54.0</td>\n      <td>1:41.148</td>\n      <td>196.215</td>\n      <td>di Resta</td>\n      <td>Finished</td>\n      <td>2013</td>\n      <td>United States Grand Prix</td>\n      <td>Force India</td>\n    </tr>\n  </tbody>\n</table>\n</div>"
     },
     "execution_count": 126,
     "metadata": {},
     "output_type": "execute_result"
    }
   ],
   "source": [
    "FinalData.sample(20)"
   ],
   "metadata": {
    "collapsed": false
   }
  },
  {
   "cell_type": "markdown",
   "source": [
    "## Question 1: What is the likelyness that a driver will finish in a desired position if they finish 1st in Qualifying?"
   ],
   "metadata": {
    "collapsed": false
   }
  },
  {
   "cell_type": "markdown",
   "source": [
    "### **Podium Positions**"
   ],
   "metadata": {
    "collapsed": false
   }
  },
  {
   "cell_type": "markdown",
   "source": [
    "**What is the probability of finishing 1st after qualifying 1st?**\n",
    "    probability = Qualifying Position * Finishing position / 230"
   ],
   "metadata": {
    "collapsed": false
   }
  },
  {
   "cell_type": "code",
   "execution_count": 127,
   "outputs": [
    {
     "name": "stdout",
     "output_type": "stream",
     "text": [
      "Qualified 1st = 322\n",
      "Qualified 1st + Finished 1st = 188\n"
     ]
    }
   ],
   "source": [
    "# number of drivers that finished first after qualifying first\n",
    "One = ((FinalData['grid'] == 1 ) & (FinalData['positionOrder'] == 1))\n",
    "total = (FinalData['grid'] == 1)\n",
    "print((\"Qualified 1st = \" )+ str(total.sum()))\n",
    "print((\"Qualified 1st + Finished 1st = \" )+ str(One.sum()))"
   ],
   "metadata": {
    "collapsed": false
   }
  },
  {
   "cell_type": "code",
   "execution_count": 128,
   "outputs": [
    {
     "data": {
      "text/plain": "58.38509316770186"
     },
     "execution_count": 128,
     "metadata": {},
     "output_type": "execute_result"
    }
   ],
   "source": [
    "(One.sum() / total.sum())*100"
   ],
   "metadata": {
    "collapsed": false
   }
  },
  {
   "cell_type": "markdown",
   "source": [
    "**1st Grid, 1st Position = 188/322 * 100 = 58.39% probability**\n"
   ],
   "metadata": {
    "collapsed": false
   }
  },
  {
   "cell_type": "code",
   "execution_count": 129,
   "outputs": [
    {
     "name": "stdout",
     "output_type": "stream",
     "text": [
      "Qualified 1st = 322\n",
      "Qualified 1st + Finished 2nd = 69\n"
     ]
    }
   ],
   "source": [
    "# number of drivers that finished second after qualifying first\n",
    "Two = ((FinalData['grid'] == 1 ) & (FinalData['positionOrder'] == 2))\n",
    "total = (FinalData['grid'] == 1)\n",
    "print((\"Qualified 1st = \" )+ str(total.sum()))\n",
    "print((\"Qualified 1st + Finished 2nd = \" )+ str(Two.sum()))"
   ],
   "metadata": {
    "collapsed": false
   }
  },
  {
   "cell_type": "code",
   "execution_count": 130,
   "outputs": [
    {
     "data": {
      "text/plain": "21.428571428571427"
     },
     "execution_count": 130,
     "metadata": {},
     "output_type": "execute_result"
    }
   ],
   "source": [
    "(Two.sum() / total.sum())*100"
   ],
   "metadata": {
    "collapsed": false
   }
  },
  {
   "cell_type": "markdown",
   "source": [
    "**1st Grid, 2nd Position = 69/322 * 100 = 21.43% probability**\n"
   ],
   "metadata": {
    "collapsed": false
   }
  },
  {
   "cell_type": "code",
   "execution_count": 131,
   "outputs": [
    {
     "name": "stdout",
     "output_type": "stream",
     "text": [
      "Qualified 1st = 322\n",
      "Qualified 1st + Finished 3rd = 32\n"
     ]
    }
   ],
   "source": [
    "# number of drivers that finished second after qualifying first\n",
    "Three = ((FinalData['grid'] == 1 ) & (FinalData['positionOrder'] == 3))\n",
    "total = (FinalData['grid'] == 1)\n",
    "print((\"Qualified 1st = \" )+ str(total.sum()))\n",
    "print((\"Qualified 1st + Finished 3rd = \" )+ str(Three.sum()))"
   ],
   "metadata": {
    "collapsed": false
   }
  },
  {
   "cell_type": "code",
   "execution_count": 132,
   "outputs": [
    {
     "data": {
      "text/plain": "9.937888198757763"
     },
     "execution_count": 132,
     "metadata": {},
     "output_type": "execute_result"
    }
   ],
   "source": [
    "(Three.sum() / total.sum())*100"
   ],
   "metadata": {
    "collapsed": false
   }
  },
  {
   "cell_type": "markdown",
   "source": [
    "**1st Grid, 3rd Position = 32/322 * 100 = 9.94% probability**"
   ],
   "metadata": {
    "collapsed": false
   }
  },
  {
   "cell_type": "markdown",
   "source": [
    "## Non-podiums in points"
   ],
   "metadata": {
    "collapsed": false
   }
  },
  {
   "cell_type": "code",
   "execution_count": 133,
   "outputs": [
    {
     "data": {
      "text/plain": "4.037267080745342"
     },
     "execution_count": 133,
     "metadata": {},
     "output_type": "execute_result"
    }
   ],
   "source": [
    "# 1 grid, 4 Position = 4.04% chance of finishing 4\n",
    "FinalData[(FinalData['grid'] == 1) & (FinalData['positionOrder'] == 4)].shape[0]/322*100"
   ],
   "metadata": {
    "collapsed": false
   }
  },
  {
   "cell_type": "code",
   "execution_count": 134,
   "outputs": [
    {
     "data": {
      "text/plain": "1.2422360248447204"
     },
     "execution_count": 134,
     "metadata": {},
     "output_type": "execute_result"
    }
   ],
   "source": [
    "# 1 grid, 5 Position = 1.24% chance of finishing 4\n",
    "FinalData[(FinalData['grid'] == 1) & (FinalData['positionOrder'] == 5)].shape[0]/322*100"
   ],
   "metadata": {
    "collapsed": false
   }
  },
  {
   "cell_type": "code",
   "execution_count": 135,
   "outputs": [
    {
     "data": {
      "text/plain": "0.9316770186335404"
     },
     "execution_count": 135,
     "metadata": {},
     "output_type": "execute_result"
    }
   ],
   "source": [
    "# 1 grid, 6 Position = 0.93% chance of finishing 4\n",
    "FinalData[(FinalData['grid'] == 1) & (FinalData['positionOrder'] == 6)].shape[0]/322*100"
   ],
   "metadata": {
    "collapsed": false
   }
  },
  {
   "cell_type": "code",
   "execution_count": 136,
   "outputs": [
    {
     "data": {
      "text/plain": "0.9316770186335404"
     },
     "execution_count": 136,
     "metadata": {},
     "output_type": "execute_result"
    }
   ],
   "source": [
    "# 1 grid, 7 Position = 0.93% chance of finishing 4\n",
    "FinalData[(FinalData['grid'] == 1) & (FinalData['positionOrder'] == 7)].shape[0]/322*100"
   ],
   "metadata": {
    "collapsed": false
   }
  },
  {
   "cell_type": "code",
   "execution_count": 137,
   "outputs": [
    {
     "data": {
      "text/plain": "1.2422360248447204"
     },
     "execution_count": 137,
     "metadata": {},
     "output_type": "execute_result"
    }
   ],
   "source": [
    "# 1 grid, 8 Position = 1.24% chance of finishing 4\n",
    "FinalData[(FinalData['grid'] == 1) & (FinalData['positionOrder'] == 8)].shape[0]/322*100"
   ],
   "metadata": {
    "collapsed": false
   }
  },
  {
   "cell_type": "code",
   "execution_count": 138,
   "outputs": [
    {
     "data": {
      "text/plain": "1.2422360248447204"
     },
     "execution_count": 138,
     "metadata": {},
     "output_type": "execute_result"
    }
   ],
   "source": [
    "# 1 grid, 9 Position = 1.24% chance of finishing 4\n",
    "FinalData[(FinalData['grid'] == 1) & (FinalData['positionOrder'] == 9)].shape[0]/322*100\n"
   ],
   "metadata": {
    "collapsed": false
   }
  },
  {
   "cell_type": "code",
   "execution_count": 139,
   "outputs": [
    {
     "data": {
      "text/plain": "0.0"
     },
     "execution_count": 139,
     "metadata": {},
     "output_type": "execute_result"
    }
   ],
   "source": [
    "# 1 grid, 10 Position = 0% chance of finishing 4\n",
    "FinalData[(FinalData['grid'] == 1) & (FinalData['positionOrder'] == 10)].shape[0]/322*100"
   ],
   "metadata": {
    "collapsed": false
   }
  },
  {
   "cell_type": "markdown",
   "source": [
    "### Given a first place qualification:\n",
    "99.38% chance that a driver will finish within points range [1,10]\n",
    "<1% chance that a driver will finish out of the points range\n",
    "89.75% chance of finishing on the podium"
   ],
   "metadata": {
    "collapsed": false
   }
  },
  {
   "cell_type": "code",
   "execution_count": 140,
   "outputs": [
    {
     "name": "stdout",
     "output_type": "stream",
     "text": [
      "[188, 69, 32, 13, 4, 3, 3, 4, 4, 0]\n"
     ]
    }
   ],
   "source": [
    "#simple automation for finding data for the bar chart\n",
    "# Finishing position after 1st on Grid\n",
    "first =[]\n",
    "for i in range(1,11):\n",
    "    first.append(FinalData[(FinalData['grid'] == 1) & (FinalData['positionOrder'] == i)].shape[0])\n",
    "print(first)"
   ],
   "metadata": {
    "collapsed": false
   }
  },
  {
   "cell_type": "code",
   "execution_count": 141,
   "outputs": [
    {
     "name": "stdout",
     "output_type": "stream",
     "text": [
      "[92, 92, 53, 25, 19, 6, 9, 6, 8, 0]\n",
      "[35, 71, 83, 42, 30, 14, 10, 8, 4, 6]\n",
      "[16, 51, 51, 66, 37, 28, 20, 10, 5, 1]\n",
      "[8, 25, 41, 63, 43, 32, 20, 10, 2, 11]\n",
      "[9, 14, 33, 38, 47, 51, 24, 9, 10, 5]\n",
      "[4, 13, 16, 12, 39, 42, 32, 23, 13, 11]\n"
     ]
    }
   ],
   "source": [
    "# Finishing position after 2-7 positions on Grid\n",
    "second =[]\n",
    "third = []\n",
    "fourth = []\n",
    "fifth = []\n",
    "sixth = []\n",
    "seventh = []\n",
    "for i in range(1,11):\n",
    "    second.append(FinalData[(FinalData['grid'] == 2) & (FinalData['positionOrder'] == i)].shape[0])\n",
    "    third.append(FinalData[(FinalData['grid'] == 3) & (FinalData['positionOrder'] == i)].shape[0])\n",
    "    fourth.append(FinalData[(FinalData['grid'] == 4) & (FinalData['positionOrder'] == i)].shape[0])\n",
    "    fifth.append(FinalData[(FinalData['grid'] == 5) & (FinalData['positionOrder'] == i)].shape[0])\n",
    "    sixth.append(FinalData[(FinalData['grid'] == 6) & (FinalData['positionOrder'] == i)].shape[0])\n",
    "    seventh.append(FinalData[(FinalData['grid'] == 7) & (FinalData['positionOrder'] == i)].shape[0])\n",
    "print(second)\n",
    "print(third)\n",
    "print(fourth)\n",
    "print(fifth)\n",
    "print(sixth)\n",
    "print(seventh)"
   ],
   "metadata": {
    "collapsed": false
   }
  },
  {
   "cell_type": "markdown",
   "source": [
    "## Creating a barplot from this data to show the correlation between grid position and final position"
   ],
   "metadata": {
    "collapsed": false
   }
  },
  {
   "cell_type": "code",
   "execution_count": 142,
   "outputs": [
    {
     "data": {
      "text/plain": "<Figure size 2000x900 with 1 Axes>",
      "image/png": "[encoded data removed]"
     },
     "metadata": {},
     "output_type": "display_data"
    }
   ],
   "source": [
    "import matplotlib.pyplot as plt\n",
    "index = ['1', '2', '3' ,'4','5','6','7','8','9','10']\n",
    "barPlot = pd.DataFrame({\n",
    "    'First' : first,\n",
    "    'Second' : second,\n",
    "    'Third' : third,\n",
    "    'Fourth' : fourth,\n",
    "    'Fifth' : fifth\n",
    "}, index = index)\n",
    "barPlot.plot.bar(title=\"Driver Final Position Based on Grid Position\", figsize=(20,9), grid = True)\n",
    "plt.xlabel('Position Finished')\n",
    "plt.ylabel('Amount of drivers')\n",
    "plt.show()"
   ],
   "metadata": {
    "collapsed": false
   }
  },
  {
   "cell_type": "markdown",
   "source": [
    "## Normal Distribution from this data to find wether the correlation between starting grid position and final position is correlated"
   ],
   "metadata": {
    "collapsed": false
   }
  },
  {
   "cell_type": "code",
   "execution_count": 144,
   "outputs": [
    {
     "data": {
      "text/plain": "<Figure size 640x480 with 1 Axes>",
      "image/png": "[encoded data removed]"
     },
     "metadata": {},
     "output_type": "display_data"
    }
   ],
   "source": [
    "normal = pd.DataFrame({\n",
    "    'First' : first,\n",
    "    'Second' : second,\n",
    "    'Third' : third,\n",
    "    'Fourth' : fourth,\n",
    "    'Fifth' : fifth\n",
    "})\n",
    "ax = normal.plot.kde()"
   ],
   "metadata": {
    "collapsed": false
   }
  },
  {
   "cell_type": "markdown",
   "source": [
    "From this data, you can see that the most normally distributed data is the 'Fifth' and least is 'Second'"
   ],
   "metadata": {
    "collapsed": false
   }
  },
  {
   "cell_type": "markdown",
   "source": [
    "## Question 2 : If you qualify 1,2 or 3, what is the chance you will finish on the podium?"
   ],
   "metadata": {
    "collapsed": false
   }
  },
  {
   "cell_type": "code",
   "execution_count": 145,
   "outputs": [
    {
     "data": {
      "text/plain": "58.38509316770186"
     },
     "execution_count": 145,
     "metadata": {},
     "output_type": "execute_result"
    }
   ],
   "source": [
    "# 1 grid, 1 Position = 58.39% chance of finishing 1\n",
    "FinalData[(FinalData['grid'] == 1) & (FinalData['positionOrder'] == 1)].shape[0]/322*100"
   ],
   "metadata": {
    "collapsed": false
   }
  },
  {
   "cell_type": "code",
   "execution_count": 146,
   "outputs": [
    {
     "data": {
      "text/plain": "21.428571428571427"
     },
     "execution_count": 146,
     "metadata": {},
     "output_type": "execute_result"
    }
   ],
   "source": [
    "# 1 grid, 2 Position = 21.43% chance of finishing 2\n",
    "FinalData[(FinalData['grid'] == 1) & (FinalData['positionOrder'] == 2)].shape[0]/322*100"
   ],
   "metadata": {
    "collapsed": false
   }
  },
  {
   "cell_type": "code",
   "execution_count": 149,
   "outputs": [
    {
     "data": {
      "text/plain": "9.937888198757763"
     },
     "execution_count": 149,
     "metadata": {},
     "output_type": "execute_result"
    }
   ],
   "source": [
    "# 1 grid, 3 Position = 9.94% chance of finishing 3\n",
    "FinalData[(FinalData['grid'] == 1) & (FinalData['positionOrder'] == 3)].shape[0]/322*100"
   ],
   "metadata": {
    "collapsed": false
   }
  },
  {
   "cell_type": "code",
   "execution_count": 163,
   "outputs": [
    {
     "data": {
      "text/plain": "10.248447204968944"
     },
     "execution_count": 163,
     "metadata": {},
     "output_type": "execute_result"
    }
   ],
   "source": [
    "# 1 grid, > 3 Position = 10.25% chance of finishing > 3\n",
    "FinalData[(FinalData['grid'] == 1) & (FinalData['positionOrder'] > 3)].shape[0]/322*100"
   ],
   "metadata": {
    "collapsed": false
   }
  },
  {
   "cell_type": "markdown",
   "source": [
    "### Given a first place qualification, drivers have a 89.75% chance of finishing on the podium and a 10.25% chance of missing a podium"
   ],
   "metadata": {
    "collapsed": false
   }
  },
  {
   "cell_type": "code",
   "execution_count": 165,
   "outputs": [
    {
     "data": {
      "text/plain": "28.57142857142857"
     },
     "execution_count": 165,
     "metadata": {},
     "output_type": "execute_result"
    }
   ],
   "source": [
    "# 2 grid,  1 Position = 28.57% chance of finishing 1\n",
    "FinalData[(FinalData['grid'] == 2) & (FinalData['positionOrder'] == 1)].shape[0]/322*100"
   ],
   "metadata": {
    "collapsed": false
   }
  },
  {
   "cell_type": "code",
   "execution_count": 168,
   "outputs": [
    {
     "data": {
      "text/plain": "28.57142857142857"
     },
     "execution_count": 168,
     "metadata": {},
     "output_type": "execute_result"
    }
   ],
   "source": [
    "# 2 grid,  2 Position = 28.57% chance of finishing 2\n",
    "FinalData[(FinalData['grid'] == 2) & (FinalData['positionOrder'] == 2)].shape[0]/322*100"
   ],
   "metadata": {
    "collapsed": false
   }
  },
  {
   "cell_type": "code",
   "execution_count": 169,
   "outputs": [
    {
     "data": {
      "text/plain": "16.459627329192546"
     },
     "execution_count": 169,
     "metadata": {},
     "output_type": "execute_result"
    }
   ],
   "source": [
    "# 2 grid,  3 Position = 16.46% chance of finishing 3\n",
    "FinalData[(FinalData['grid'] == 2) & (FinalData['positionOrder'] == 3)].shape[0]/322*100"
   ],
   "metadata": {
    "collapsed": false
   }
  },
  {
   "cell_type": "code",
   "execution_count": 171,
   "outputs": [
    {
     "data": {
      "text/plain": "24.53416149068323"
     },
     "execution_count": 171,
     "metadata": {},
     "output_type": "execute_result"
    }
   ],
   "source": [
    "# 2 grid,> 3 Position = 24.53% chance of finishing > 3\n",
    "FinalData[(FinalData['grid'] == 2) & (FinalData['positionOrder'] > 3)].shape[0]/322*100"
   ],
   "metadata": {
    "collapsed": false
   }
  },
  {
   "cell_type": "markdown",
   "source": [
    "### Given a second place qualification: Drivers have a 73.6% chance of finishing on the podium and a 24.53% chance of missing the podium"
   ],
   "metadata": {
    "collapsed": false
   }
  },
  {
   "cell_type": "code",
   "execution_count": 173,
   "outputs": [
    {
     "data": {
      "text/plain": "10.869565217391305"
     },
     "execution_count": 173,
     "metadata": {},
     "output_type": "execute_result"
    }
   ],
   "source": [
    "# 3 grid,  1 Position = 10.87% chance of finishing 1\n",
    "FinalData[(FinalData['grid'] == 3) & (FinalData['positionOrder'] == 1)].shape[0]/322*100"
   ],
   "metadata": {
    "collapsed": false
   }
  },
  {
   "cell_type": "code",
   "execution_count": 176,
   "outputs": [
    {
     "data": {
      "text/plain": "22.049689440993788"
     },
     "execution_count": 176,
     "metadata": {},
     "output_type": "execute_result"
    }
   ],
   "source": [
    "# 3 grid,  2 Position = 22.05% chance of finishing 2\n",
    "FinalData[(FinalData['grid'] == 3) & (FinalData['positionOrder'] == 2)].shape[0]/322*100"
   ],
   "metadata": {
    "collapsed": false
   }
  },
  {
   "cell_type": "code",
   "execution_count": 177,
   "outputs": [
    {
     "data": {
      "text/plain": "25.77639751552795"
     },
     "execution_count": 177,
     "metadata": {},
     "output_type": "execute_result"
    }
   ],
   "source": [
    "# 3 grid,  3 Position = 25.78% chance of finishing 3\n",
    "FinalData[(FinalData['grid'] == 3) & (FinalData['positionOrder'] == 3)].shape[0]/322*100"
   ],
   "metadata": {
    "collapsed": false
   }
  },
  {
   "cell_type": "code",
   "execution_count": 178,
   "outputs": [
    {
     "data": {
      "text/plain": "36.33540372670808"
     },
     "execution_count": 178,
     "metadata": {},
     "output_type": "execute_result"
    }
   ],
   "source": [
    "# 3 grid,  > 3 Position = 10.87% chance of finishing > 3\n",
    "FinalData[(FinalData['grid'] == 3) & (FinalData['positionOrder'] > 3)].shape[0]/322*100"
   ],
   "metadata": {
    "collapsed": false
   }
  },
  {
   "cell_type": "markdown",
   "source": [
    "### Given a third place qualification: drivers have a 58.7% chance of finishing on the podium, and a 36.34% chance of missing the podium"
   ],
   "metadata": {
    "collapsed": false
   }
  },
  {
   "cell_type": "markdown",
   "source": [
    "# Section 2"
   ],
   "metadata": {
    "collapsed": false
   }
  },
  {
   "cell_type": "markdown",
   "source": [
    "## Between 2013 and 2014, a decision was made to manipulate the formula of the cars. Starting in 2014, there would be a new V6 engine with 1600cc / 8 gearbox"
   ],
   "metadata": {
    "collapsed": false
   }
  },
  {
   "cell_type": "markdown",
   "source": [
    "CC is the displacement volume of the engine, so it means that the engine has more cylinders and a higher swept volume which directly translates into horsepower and torque of the vehicle\n",
    "\n",
    "https://bleacherreport.com/articles/2003467-are-2014-formula-1-cars-slower-analysing-lap-times-at-australian-grand-prix\n",
    "\n",
    "Between 2013 and 2014, there was a 1.77 second drop on fastest average laptime between racers that stayed on the same team.\n",
    "\n",
    "**Sebastian Vettel: Difference in Race times between 2013 and 2014 average in each race: -2.29 seconds**\n",
    "\n",
    "**Fernando Alonso: Difference in Race times between 2013 and 2014 average in each race: -2.07 seconds**\n",
    "\n",
    "**Nico Rosberg: Difference in Race times between 2013 and 2014 average in each race: -1.78 seconds**\n",
    "\n",
    "**Felipe Massa: Difference in Race times between 2013 and 2014 average in each race: -0.92 seconds**"
   ],
   "metadata": {
    "collapsed": false
   }
  },
  {
   "cell_type": "markdown",
   "source": [
    "### Checking the drivers average lap time below"
   ],
   "metadata": {
    "collapsed": false
   }
  },
  {
   "cell_type": "code",
   "execution_count": 179,
   "outputs": [
    {
     "data": {
      "text/plain": "      resultId  grid  positionOrder  fastestLap fastestLapTime  \\\n1861     22064     2              1        51.0       1:43.893   \n1892     22525    19              8        51.0       1:45.552   \n1838     21714     1              3        42.0       1:30.409   \n1843     21778     2              1        55.0       1:36.961   \n1867     22179    10              6        18.0       1:39.312   \n1854     21932     2              1        40.0       1:50.756   \n\n      fastestLapSpeed surname    status  year                 name_x    name_y  \n1861          192.451  Vettel  Finished  2013   Abu Dhabi Grand Prix  Red Bull  \n1892          189.427  Vettel  Finished  2014   Abu Dhabi Grand Prix  Red Bull  \n1838          211.160  Vettel  Finished  2013  Australian Grand Prix  Red Bull  \n1843          200.938  Vettel  Finished  2013     Bahrain Grand Prix  Red Bull  \n1867          196.181  Vettel  Finished  2014     Bahrain Grand Prix  Red Bull  \n1854          227.657  Vettel  Finished  2013     Belgian Grand Prix  Red Bull  ",
      "text/html": "<div>\n<style scoped>\n    .dataframe tbody tr th:only-of-type {\n        vertical-align: middle;\n    }\n\n    .dataframe tbody tr th {\n        vertical-align: top;\n    }\n\n    .dataframe thead th {\n        text-align: right;\n    }\n</style>\n<table border=\"1\" class=\"dataframe\">\n  <thead>\n    <tr style=\"text-align: right;\">\n      <th></th>\n      <th>resultId</th>\n      <th>grid</th>\n      <th>positionOrder</th>\n      <th>fastestLap</th>\n      <th>fastestLapTime</th>\n      <th>fastestLapSpeed</th>\n      <th>surname</th>\n      <th>status</th>\n      <th>year</th>\n      <th>name_x</th>\n      <th>name_y</th>\n    </tr>\n  </thead>\n  <tbody>\n    <tr>\n      <th>1861</th>\n      <td>22064</td>\n      <td>2</td>\n      <td>1</td>\n      <td>51.0</td>\n      <td>1:43.893</td>\n      <td>192.451</td>\n      <td>Vettel</td>\n      <td>Finished</td>\n      <td>2013</td>\n      <td>Abu Dhabi Grand Prix</td>\n      <td>Red Bull</td>\n    </tr>\n    <tr>\n      <th>1892</th>\n      <td>22525</td>\n      <td>19</td>\n      <td>8</td>\n      <td>51.0</td>\n      <td>1:45.552</td>\n      <td>189.427</td>\n      <td>Vettel</td>\n      <td>Finished</td>\n      <td>2014</td>\n      <td>Abu Dhabi Grand Prix</td>\n      <td>Red Bull</td>\n    </tr>\n    <tr>\n      <th>1838</th>\n      <td>21714</td>\n      <td>1</td>\n      <td>3</td>\n      <td>42.0</td>\n      <td>1:30.409</td>\n      <td>211.160</td>\n      <td>Vettel</td>\n      <td>Finished</td>\n      <td>2013</td>\n      <td>Australian Grand Prix</td>\n      <td>Red Bull</td>\n    </tr>\n    <tr>\n      <th>1843</th>\n      <td>21778</td>\n      <td>2</td>\n      <td>1</td>\n      <td>55.0</td>\n      <td>1:36.961</td>\n      <td>200.938</td>\n      <td>Vettel</td>\n      <td>Finished</td>\n      <td>2013</td>\n      <td>Bahrain Grand Prix</td>\n      <td>Red Bull</td>\n    </tr>\n    <tr>\n      <th>1867</th>\n      <td>22179</td>\n      <td>10</td>\n      <td>6</td>\n      <td>18.0</td>\n      <td>1:39.312</td>\n      <td>196.181</td>\n      <td>Vettel</td>\n      <td>Finished</td>\n      <td>2014</td>\n      <td>Bahrain Grand Prix</td>\n      <td>Red Bull</td>\n    </tr>\n    <tr>\n      <th>1854</th>\n      <td>21932</td>\n      <td>2</td>\n      <td>1</td>\n      <td>40.0</td>\n      <td>1:50.756</td>\n      <td>227.657</td>\n      <td>Vettel</td>\n      <td>Finished</td>\n      <td>2013</td>\n      <td>Belgian Grand Prix</td>\n      <td>Red Bull</td>\n    </tr>\n  </tbody>\n</table>\n</div>"
     },
     "execution_count": 179,
     "metadata": {},
     "output_type": "execute_result"
    }
   ],
   "source": [
    "FinalData[((FinalData['year'] == 2013) | (FinalData['year'] == 2014)) & ((FinalData['surname'] == 'Vettel'))].sort_values(by=['surname','name_x']).head(6)"
   ],
   "metadata": {
    "collapsed": false
   }
  },
  {
   "cell_type": "code",
   "execution_count": 189,
   "outputs": [
    {
     "data": {
      "text/plain": "      resultId  grid  positionOrder  fastestLap fastestLapTime  \\\n1207     22068    10              5        55.0       1:43.434   \n1234     22526     8              9        45.0       1:47.424   \n1183     21713     5              2        53.0       1:29.560   \n1529     22133     5              4        57.0       1:33.186   \n1220     22288     4              5        58.0       1:12.595   \n1188     21785     3              8        41.0       1:37.204   \n\n      fastestLapSpeed surname    status  year                 name_x   name_y  \n1207          193.305  Alonso  Finished  2013   Abu Dhabi Grand Prix  Ferrari  \n1234          186.126  Alonso  Finished  2014   Abu Dhabi Grand Prix  Ferrari  \n1183          213.162  Alonso  Finished  2013  Australian Grand Prix  Ferrari  \n1529          204.867  Alonso  Finished  2014  Australian Grand Prix  Ferrari  \n1220          214.527  Alonso  Finished  2014    Austrian Grand Prix  Ferrari  \n1188          200.436  Alonso  Finished  2013     Bahrain Grand Prix  Ferrari  ",
      "text/html": "<div>\n<style scoped>\n    .dataframe tbody tr th:only-of-type {\n        vertical-align: middle;\n    }\n\n    .dataframe tbody tr th {\n        vertical-align: top;\n    }\n\n    .dataframe thead th {\n        text-align: right;\n    }\n</style>\n<table border=\"1\" class=\"dataframe\">\n  <thead>\n    <tr style=\"text-align: right;\">\n      <th></th>\n      <th>resultId</th>\n      <th>grid</th>\n      <th>positionOrder</th>\n      <th>fastestLap</th>\n      <th>fastestLapTime</th>\n      <th>fastestLapSpeed</th>\n      <th>surname</th>\n      <th>status</th>\n      <th>year</th>\n      <th>name_x</th>\n      <th>name_y</th>\n    </tr>\n  </thead>\n  <tbody>\n    <tr>\n      <th>1207</th>\n      <td>22068</td>\n      <td>10</td>\n      <td>5</td>\n      <td>55.0</td>\n      <td>1:43.434</td>\n      <td>193.305</td>\n      <td>Alonso</td>\n      <td>Finished</td>\n      <td>2013</td>\n      <td>Abu Dhabi Grand Prix</td>\n      <td>Ferrari</td>\n    </tr>\n    <tr>\n      <th>1234</th>\n      <td>22526</td>\n      <td>8</td>\n      <td>9</td>\n      <td>45.0</td>\n      <td>1:47.424</td>\n      <td>186.126</td>\n      <td>Alonso</td>\n      <td>Finished</td>\n      <td>2014</td>\n      <td>Abu Dhabi Grand Prix</td>\n      <td>Ferrari</td>\n    </tr>\n    <tr>\n      <th>1183</th>\n      <td>21713</td>\n      <td>5</td>\n      <td>2</td>\n      <td>53.0</td>\n      <td>1:29.560</td>\n      <td>213.162</td>\n      <td>Alonso</td>\n      <td>Finished</td>\n      <td>2013</td>\n      <td>Australian Grand Prix</td>\n      <td>Ferrari</td>\n    </tr>\n    <tr>\n      <th>1529</th>\n      <td>22133</td>\n      <td>5</td>\n      <td>4</td>\n      <td>57.0</td>\n      <td>1:33.186</td>\n      <td>204.867</td>\n      <td>Alonso</td>\n      <td>Finished</td>\n      <td>2014</td>\n      <td>Australian Grand Prix</td>\n      <td>Ferrari</td>\n    </tr>\n    <tr>\n      <th>1220</th>\n      <td>22288</td>\n      <td>4</td>\n      <td>5</td>\n      <td>58.0</td>\n      <td>1:12.595</td>\n      <td>214.527</td>\n      <td>Alonso</td>\n      <td>Finished</td>\n      <td>2014</td>\n      <td>Austrian Grand Prix</td>\n      <td>Ferrari</td>\n    </tr>\n    <tr>\n      <th>1188</th>\n      <td>21785</td>\n      <td>3</td>\n      <td>8</td>\n      <td>41.0</td>\n      <td>1:37.204</td>\n      <td>200.436</td>\n      <td>Alonso</td>\n      <td>Finished</td>\n      <td>2013</td>\n      <td>Bahrain Grand Prix</td>\n      <td>Ferrari</td>\n    </tr>\n  </tbody>\n</table>\n</div>"
     },
     "execution_count": 189,
     "metadata": {},
     "output_type": "execute_result"
    }
   ],
   "source": [
    "FinalData[((FinalData['year'] == 2013) | (FinalData['year'] == 2014)) & ((FinalData['surname'] == 'Alonso'))].sort_values(by=['surname','name_x']).head(6)"
   ],
   "metadata": {
    "collapsed": false
   }
  },
  {
   "cell_type": "code",
   "execution_count": 190,
   "outputs": [
    {
     "data": {
      "text/plain": "      resultId  grid  positionOrder  fastestLap fastestLapTime  \\\n2742     22066     3              3        51.0       1:44.458   \n3079     22130     3              1        19.0       1:32.478   \n2758     22284     3              1        50.0       1:12.598   \n2721     21786     1              9        48.0       1:37.588   \n2750     22175     1              2        49.0       1:37.020   \n2732     21935     4              4        39.0       1:51.582   \n\n      fastestLapSpeed  surname    status  year                 name_x  \\\n2742          191.410  Rosberg  Finished  2013   Abu Dhabi Grand Prix   \n3079          206.436  Rosberg  Finished  2014  Australian Grand Prix   \n2758          214.518  Rosberg  Finished  2014    Austrian Grand Prix   \n2721          199.647  Rosberg  Finished  2013     Bahrain Grand Prix   \n2750          200.816  Rosberg  Finished  2014     Bahrain Grand Prix   \n2732          225.971  Rosberg  Finished  2013     Belgian Grand Prix   \n\n        name_y  \n2742  Mercedes  \n3079  Mercedes  \n2758  Mercedes  \n2721  Mercedes  \n2750  Mercedes  \n2732  Mercedes  ",
      "text/html": "<div>\n<style scoped>\n    .dataframe tbody tr th:only-of-type {\n        vertical-align: middle;\n    }\n\n    .dataframe tbody tr th {\n        vertical-align: top;\n    }\n\n    .dataframe thead th {\n        text-align: right;\n    }\n</style>\n<table border=\"1\" class=\"dataframe\">\n  <thead>\n    <tr style=\"text-align: right;\">\n      <th></th>\n      <th>resultId</th>\n      <th>grid</th>\n      <th>positionOrder</th>\n      <th>fastestLap</th>\n      <th>fastestLapTime</th>\n      <th>fastestLapSpeed</th>\n      <th>surname</th>\n      <th>status</th>\n      <th>year</th>\n      <th>name_x</th>\n      <th>name_y</th>\n    </tr>\n  </thead>\n  <tbody>\n    <tr>\n      <th>2742</th>\n      <td>22066</td>\n      <td>3</td>\n      <td>3</td>\n      <td>51.0</td>\n      <td>1:44.458</td>\n      <td>191.410</td>\n      <td>Rosberg</td>\n      <td>Finished</td>\n      <td>2013</td>\n      <td>Abu Dhabi Grand Prix</td>\n      <td>Mercedes</td>\n    </tr>\n    <tr>\n      <th>3079</th>\n      <td>22130</td>\n      <td>3</td>\n      <td>1</td>\n      <td>19.0</td>\n      <td>1:32.478</td>\n      <td>206.436</td>\n      <td>Rosberg</td>\n      <td>Finished</td>\n      <td>2014</td>\n      <td>Australian Grand Prix</td>\n      <td>Mercedes</td>\n    </tr>\n    <tr>\n      <th>2758</th>\n      <td>22284</td>\n      <td>3</td>\n      <td>1</td>\n      <td>50.0</td>\n      <td>1:12.598</td>\n      <td>214.518</td>\n      <td>Rosberg</td>\n      <td>Finished</td>\n      <td>2014</td>\n      <td>Austrian Grand Prix</td>\n      <td>Mercedes</td>\n    </tr>\n    <tr>\n      <th>2721</th>\n      <td>21786</td>\n      <td>1</td>\n      <td>9</td>\n      <td>48.0</td>\n      <td>1:37.588</td>\n      <td>199.647</td>\n      <td>Rosberg</td>\n      <td>Finished</td>\n      <td>2013</td>\n      <td>Bahrain Grand Prix</td>\n      <td>Mercedes</td>\n    </tr>\n    <tr>\n      <th>2750</th>\n      <td>22175</td>\n      <td>1</td>\n      <td>2</td>\n      <td>49.0</td>\n      <td>1:37.020</td>\n      <td>200.816</td>\n      <td>Rosberg</td>\n      <td>Finished</td>\n      <td>2014</td>\n      <td>Bahrain Grand Prix</td>\n      <td>Mercedes</td>\n    </tr>\n    <tr>\n      <th>2732</th>\n      <td>21935</td>\n      <td>4</td>\n      <td>4</td>\n      <td>39.0</td>\n      <td>1:51.582</td>\n      <td>225.971</td>\n      <td>Rosberg</td>\n      <td>Finished</td>\n      <td>2013</td>\n      <td>Belgian Grand Prix</td>\n      <td>Mercedes</td>\n    </tr>\n  </tbody>\n</table>\n</div>"
     },
     "execution_count": 190,
     "metadata": {},
     "output_type": "execute_result"
    }
   ],
   "source": [
    "FinalData[((FinalData['year'] == 2013) | (FinalData['year'] == 2014)) & ((FinalData['surname'] == 'Rosberg'))].sort_values(by=['surname','name_x']).head(6)"
   ],
   "metadata": {
    "collapsed": false
   }
  },
  {
   "cell_type": "code",
   "execution_count": 191,
   "outputs": [
    {
     "data": {
      "text/plain": "      resultId  grid  positionOrder  fastestLap fastestLapTime  \\\n625      22519     4              2        47.0       1:44.826   \n1208     22071     7              8        52.0       1:45.447   \n1184     21715     4              4        38.0       1:30.239   \n608      22287     1              4        63.0       1:12.586   \n604      22180     7              7        40.0       1:39.272   \n1189     21792     4             15        42.0       1:38.839   \n\n      fastestLapSpeed surname    status  year                 name_x    name_y  \n625           190.738   Massa  Finished  2014   Abu Dhabi Grand Prix  Williams  \n1208          189.615   Massa  Finished  2013   Abu Dhabi Grand Prix   Ferrari  \n1184          211.558   Massa  Finished  2013  Australian Grand Prix   Ferrari  \n608           214.553   Massa  Finished  2014    Austrian Grand Prix  Williams  \n604           196.260   Massa  Finished  2014     Bahrain Grand Prix  Williams  \n1189          197.120   Massa  Finished  2013     Bahrain Grand Prix   Ferrari  ",
      "text/html": "<div>\n<style scoped>\n    .dataframe tbody tr th:only-of-type {\n        vertical-align: middle;\n    }\n\n    .dataframe tbody tr th {\n        vertical-align: top;\n    }\n\n    .dataframe thead th {\n        text-align: right;\n    }\n</style>\n<table border=\"1\" class=\"dataframe\">\n  <thead>\n    <tr style=\"text-align: right;\">\n      <th></th>\n      <th>resultId</th>\n      <th>grid</th>\n      <th>positionOrder</th>\n      <th>fastestLap</th>\n      <th>fastestLapTime</th>\n      <th>fastestLapSpeed</th>\n      <th>surname</th>\n      <th>status</th>\n      <th>year</th>\n      <th>name_x</th>\n      <th>name_y</th>\n    </tr>\n  </thead>\n  <tbody>\n    <tr>\n      <th>625</th>\n      <td>22519</td>\n      <td>4</td>\n      <td>2</td>\n      <td>47.0</td>\n      <td>1:44.826</td>\n      <td>190.738</td>\n      <td>Massa</td>\n      <td>Finished</td>\n      <td>2014</td>\n      <td>Abu Dhabi Grand Prix</td>\n      <td>Williams</td>\n    </tr>\n    <tr>\n      <th>1208</th>\n      <td>22071</td>\n      <td>7</td>\n      <td>8</td>\n      <td>52.0</td>\n      <td>1:45.447</td>\n      <td>189.615</td>\n      <td>Massa</td>\n      <td>Finished</td>\n      <td>2013</td>\n      <td>Abu Dhabi Grand Prix</td>\n      <td>Ferrari</td>\n    </tr>\n    <tr>\n      <th>1184</th>\n      <td>21715</td>\n      <td>4</td>\n      <td>4</td>\n      <td>38.0</td>\n      <td>1:30.239</td>\n      <td>211.558</td>\n      <td>Massa</td>\n      <td>Finished</td>\n      <td>2013</td>\n      <td>Australian Grand Prix</td>\n      <td>Ferrari</td>\n    </tr>\n    <tr>\n      <th>608</th>\n      <td>22287</td>\n      <td>1</td>\n      <td>4</td>\n      <td>63.0</td>\n      <td>1:12.586</td>\n      <td>214.553</td>\n      <td>Massa</td>\n      <td>Finished</td>\n      <td>2014</td>\n      <td>Austrian Grand Prix</td>\n      <td>Williams</td>\n    </tr>\n    <tr>\n      <th>604</th>\n      <td>22180</td>\n      <td>7</td>\n      <td>7</td>\n      <td>40.0</td>\n      <td>1:39.272</td>\n      <td>196.260</td>\n      <td>Massa</td>\n      <td>Finished</td>\n      <td>2014</td>\n      <td>Bahrain Grand Prix</td>\n      <td>Williams</td>\n    </tr>\n    <tr>\n      <th>1189</th>\n      <td>21792</td>\n      <td>4</td>\n      <td>15</td>\n      <td>42.0</td>\n      <td>1:38.839</td>\n      <td>197.120</td>\n      <td>Massa</td>\n      <td>Finished</td>\n      <td>2013</td>\n      <td>Bahrain Grand Prix</td>\n      <td>Ferrari</td>\n    </tr>\n  </tbody>\n</table>\n</div>"
     },
     "execution_count": 191,
     "metadata": {},
     "output_type": "execute_result"
    }
   ],
   "source": [
    "FinalData[((FinalData['year'] == 2013) | (FinalData['year'] == 2014)) & ((FinalData['surname'] == 'Massa'))].sort_values(by=['surname','name_x']).head(6)"
   ],
   "metadata": {
    "collapsed": false
   }
  },
  {
   "cell_type": "code",
   "execution_count": 192,
   "outputs": [
    {
     "data": {
      "text/plain": "      resultId  grid  positionOrder  fastestLap fastestLapTime  \\\n1893     22521    20              4        50.0       1:44.496   \n1874     22291     5              8        55.0       1:13.060   \n1868     22177    13              4        38.0       1:39.269   \n2166     22373     5              1        44.0       1:52.974   \n2310     21941    19             10        38.0       1:50.967   \n1876     22308     8              3        34.0       1:38.459   \n\n      fastestLapSpeed    surname    status  year                name_x  \\\n1893          191.341  Ricciardo  Finished  2014  Abu Dhabi Grand Prix   \n1874          213.161  Ricciardo  Finished  2014   Austrian Grand Prix   \n1868          196.266  Ricciardo  Finished  2014    Bahrain Grand Prix   \n2166          223.187  Ricciardo  Finished  2014    Belgian Grand Prix   \n2310          227.224  Ricciardo  Finished  2013    Belgian Grand Prix   \n1876          215.395  Ricciardo  Finished  2014    British Grand Prix   \n\n          name_y  \n1893    Red Bull  \n1874    Red Bull  \n1868    Red Bull  \n2166    Red Bull  \n2310  Toro Rosso  \n1876    Red Bull  ",
      "text/html": "<div>\n<style scoped>\n    .dataframe tbody tr th:only-of-type {\n        vertical-align: middle;\n    }\n\n    .dataframe tbody tr th {\n        vertical-align: top;\n    }\n\n    .dataframe thead th {\n        text-align: right;\n    }\n</style>\n<table border=\"1\" class=\"dataframe\">\n  <thead>\n    <tr style=\"text-align: right;\">\n      <th></th>\n      <th>resultId</th>\n      <th>grid</th>\n      <th>positionOrder</th>\n      <th>fastestLap</th>\n      <th>fastestLapTime</th>\n      <th>fastestLapSpeed</th>\n      <th>surname</th>\n      <th>status</th>\n      <th>year</th>\n      <th>name_x</th>\n      <th>name_y</th>\n    </tr>\n  </thead>\n  <tbody>\n    <tr>\n      <th>1893</th>\n      <td>22521</td>\n      <td>20</td>\n      <td>4</td>\n      <td>50.0</td>\n      <td>1:44.496</td>\n      <td>191.341</td>\n      <td>Ricciardo</td>\n      <td>Finished</td>\n      <td>2014</td>\n      <td>Abu Dhabi Grand Prix</td>\n      <td>Red Bull</td>\n    </tr>\n    <tr>\n      <th>1874</th>\n      <td>22291</td>\n      <td>5</td>\n      <td>8</td>\n      <td>55.0</td>\n      <td>1:13.060</td>\n      <td>213.161</td>\n      <td>Ricciardo</td>\n      <td>Finished</td>\n      <td>2014</td>\n      <td>Austrian Grand Prix</td>\n      <td>Red Bull</td>\n    </tr>\n    <tr>\n      <th>1868</th>\n      <td>22177</td>\n      <td>13</td>\n      <td>4</td>\n      <td>38.0</td>\n      <td>1:39.269</td>\n      <td>196.266</td>\n      <td>Ricciardo</td>\n      <td>Finished</td>\n      <td>2014</td>\n      <td>Bahrain Grand Prix</td>\n      <td>Red Bull</td>\n    </tr>\n    <tr>\n      <th>2166</th>\n      <td>22373</td>\n      <td>5</td>\n      <td>1</td>\n      <td>44.0</td>\n      <td>1:52.974</td>\n      <td>223.187</td>\n      <td>Ricciardo</td>\n      <td>Finished</td>\n      <td>2014</td>\n      <td>Belgian Grand Prix</td>\n      <td>Red Bull</td>\n    </tr>\n    <tr>\n      <th>2310</th>\n      <td>21941</td>\n      <td>19</td>\n      <td>10</td>\n      <td>38.0</td>\n      <td>1:50.967</td>\n      <td>227.224</td>\n      <td>Ricciardo</td>\n      <td>Finished</td>\n      <td>2013</td>\n      <td>Belgian Grand Prix</td>\n      <td>Toro Rosso</td>\n    </tr>\n    <tr>\n      <th>1876</th>\n      <td>22308</td>\n      <td>8</td>\n      <td>3</td>\n      <td>34.0</td>\n      <td>1:38.459</td>\n      <td>215.395</td>\n      <td>Ricciardo</td>\n      <td>Finished</td>\n      <td>2014</td>\n      <td>British Grand Prix</td>\n      <td>Red Bull</td>\n    </tr>\n  </tbody>\n</table>\n</div>"
     },
     "execution_count": 192,
     "metadata": {},
     "output_type": "execute_result"
    }
   ],
   "source": [
    "FinalData[((FinalData['year'] == 2013) | (FinalData['year'] == 2014)) & ((FinalData['surname'] == 'Ricciardo'))].sort_values(by=['surname','name_x']).head(6)"
   ],
   "metadata": {
    "collapsed": false
   }
  },
  {
   "cell_type": "code",
   "execution_count": 195,
   "outputs": [
    {
     "data": {
      "text/plain": "     resultId  grid  positionOrder  fastestLap fastestLapTime  \\\n171     22075    12             12        43.0       1:46.336   \n194     22522     6              5        47.0       1:46.739   \n150     21720    10              9        41.0       1:30.198   \n359     22132    10              3        39.0       1:32.917   \n178     22294    11             11        60.0       1:12.858   \n155     21787    10             10        49.0       1:37.743   \n\n     fastestLapSpeed surname    status  year                 name_x   name_y  \n171          188.030  Button  Finished  2013   Abu Dhabi Grand Prix  McLaren  \n194          187.320  Button  Finished  2014   Abu Dhabi Grand Prix  McLaren  \n150          211.654  Button  Finished  2013  Australian Grand Prix  McLaren  \n359          205.460  Button  Finished  2014  Australian Grand Prix  McLaren  \n178          213.752  Button  Finished  2014    Austrian Grand Prix  McLaren  \n155          199.330  Button  Finished  2013     Bahrain Grand Prix  McLaren  ",
      "text/html": "<div>\n<style scoped>\n    .dataframe tbody tr th:only-of-type {\n        vertical-align: middle;\n    }\n\n    .dataframe tbody tr th {\n        vertical-align: top;\n    }\n\n    .dataframe thead th {\n        text-align: right;\n    }\n</style>\n<table border=\"1\" class=\"dataframe\">\n  <thead>\n    <tr style=\"text-align: right;\">\n      <th></th>\n      <th>resultId</th>\n      <th>grid</th>\n      <th>positionOrder</th>\n      <th>fastestLap</th>\n      <th>fastestLapTime</th>\n      <th>fastestLapSpeed</th>\n      <th>surname</th>\n      <th>status</th>\n      <th>year</th>\n      <th>name_x</th>\n      <th>name_y</th>\n    </tr>\n  </thead>\n  <tbody>\n    <tr>\n      <th>171</th>\n      <td>22075</td>\n      <td>12</td>\n      <td>12</td>\n      <td>43.0</td>\n      <td>1:46.336</td>\n      <td>188.030</td>\n      <td>Button</td>\n      <td>Finished</td>\n      <td>2013</td>\n      <td>Abu Dhabi Grand Prix</td>\n      <td>McLaren</td>\n    </tr>\n    <tr>\n      <th>194</th>\n      <td>22522</td>\n      <td>6</td>\n      <td>5</td>\n      <td>47.0</td>\n      <td>1:46.739</td>\n      <td>187.320</td>\n      <td>Button</td>\n      <td>Finished</td>\n      <td>2014</td>\n      <td>Abu Dhabi Grand Prix</td>\n      <td>McLaren</td>\n    </tr>\n    <tr>\n      <th>150</th>\n      <td>21720</td>\n      <td>10</td>\n      <td>9</td>\n      <td>41.0</td>\n      <td>1:30.198</td>\n      <td>211.654</td>\n      <td>Button</td>\n      <td>Finished</td>\n      <td>2013</td>\n      <td>Australian Grand Prix</td>\n      <td>McLaren</td>\n    </tr>\n    <tr>\n      <th>359</th>\n      <td>22132</td>\n      <td>10</td>\n      <td>3</td>\n      <td>39.0</td>\n      <td>1:32.917</td>\n      <td>205.460</td>\n      <td>Button</td>\n      <td>Finished</td>\n      <td>2014</td>\n      <td>Australian Grand Prix</td>\n      <td>McLaren</td>\n    </tr>\n    <tr>\n      <th>178</th>\n      <td>22294</td>\n      <td>11</td>\n      <td>11</td>\n      <td>60.0</td>\n      <td>1:12.858</td>\n      <td>213.752</td>\n      <td>Button</td>\n      <td>Finished</td>\n      <td>2014</td>\n      <td>Austrian Grand Prix</td>\n      <td>McLaren</td>\n    </tr>\n    <tr>\n      <th>155</th>\n      <td>21787</td>\n      <td>10</td>\n      <td>10</td>\n      <td>49.0</td>\n      <td>1:37.743</td>\n      <td>199.330</td>\n      <td>Button</td>\n      <td>Finished</td>\n      <td>2013</td>\n      <td>Bahrain Grand Prix</td>\n      <td>McLaren</td>\n    </tr>\n  </tbody>\n</table>\n</div>"
     },
     "execution_count": 195,
     "metadata": {},
     "output_type": "execute_result"
    }
   ],
   "source": [
    "FinalData[((FinalData['year'] == 2013) | (FinalData['year'] == 2014)) & ((FinalData['surname'] == 'Button'))].sort_values(by=['surname','name_x']).head(6)"
   ],
   "metadata": {
    "collapsed": false
   }
  },
  {
   "cell_type": "code",
   "execution_count": 193,
   "outputs": [
    {
     "data": {
      "text/plain": "     resultId  grid  positionOrder  fastestLap fastestLapTime  \\\n626     22520     3              3        54.0       1:45.727   \n763     22134    15              5        56.0       1:32.616   \n609     22286     2              3        63.0       1:12.581   \n587     21791    15             14        57.0       1:38.192   \n605     22181     3              8        50.0       1:39.762   \n592     21946    20             15        31.0       1:52.688   \n\n     fastestLapSpeed surname    status  year                 name_x    name_y  \n626          189.113  Bottas  Finished  2014   Abu Dhabi Grand Prix  Williams  \n763          206.128  Bottas  Finished  2014  Australian Grand Prix  Williams  \n609          214.568  Bottas  Finished  2014    Austrian Grand Prix  Williams  \n587          198.419  Bottas  Finished  2013     Bahrain Grand Prix  Williams  \n605          195.296  Bottas  Finished  2014     Bahrain Grand Prix  Williams  \n592          223.754  Bottas  Finished  2013     Belgian Grand Prix  Williams  ",
      "text/html": "<div>\n<style scoped>\n    .dataframe tbody tr th:only-of-type {\n        vertical-align: middle;\n    }\n\n    .dataframe tbody tr th {\n        vertical-align: top;\n    }\n\n    .dataframe thead th {\n        text-align: right;\n    }\n</style>\n<table border=\"1\" class=\"dataframe\">\n  <thead>\n    <tr style=\"text-align: right;\">\n      <th></th>\n      <th>resultId</th>\n      <th>grid</th>\n      <th>positionOrder</th>\n      <th>fastestLap</th>\n      <th>fastestLapTime</th>\n      <th>fastestLapSpeed</th>\n      <th>surname</th>\n      <th>status</th>\n      <th>year</th>\n      <th>name_x</th>\n      <th>name_y</th>\n    </tr>\n  </thead>\n  <tbody>\n    <tr>\n      <th>626</th>\n      <td>22520</td>\n      <td>3</td>\n      <td>3</td>\n      <td>54.0</td>\n      <td>1:45.727</td>\n      <td>189.113</td>\n      <td>Bottas</td>\n      <td>Finished</td>\n      <td>2014</td>\n      <td>Abu Dhabi Grand Prix</td>\n      <td>Williams</td>\n    </tr>\n    <tr>\n      <th>763</th>\n      <td>22134</td>\n      <td>15</td>\n      <td>5</td>\n      <td>56.0</td>\n      <td>1:32.616</td>\n      <td>206.128</td>\n      <td>Bottas</td>\n      <td>Finished</td>\n      <td>2014</td>\n      <td>Australian Grand Prix</td>\n      <td>Williams</td>\n    </tr>\n    <tr>\n      <th>609</th>\n      <td>22286</td>\n      <td>2</td>\n      <td>3</td>\n      <td>63.0</td>\n      <td>1:12.581</td>\n      <td>214.568</td>\n      <td>Bottas</td>\n      <td>Finished</td>\n      <td>2014</td>\n      <td>Austrian Grand Prix</td>\n      <td>Williams</td>\n    </tr>\n    <tr>\n      <th>587</th>\n      <td>21791</td>\n      <td>15</td>\n      <td>14</td>\n      <td>57.0</td>\n      <td>1:38.192</td>\n      <td>198.419</td>\n      <td>Bottas</td>\n      <td>Finished</td>\n      <td>2013</td>\n      <td>Bahrain Grand Prix</td>\n      <td>Williams</td>\n    </tr>\n    <tr>\n      <th>605</th>\n      <td>22181</td>\n      <td>3</td>\n      <td>8</td>\n      <td>50.0</td>\n      <td>1:39.762</td>\n      <td>195.296</td>\n      <td>Bottas</td>\n      <td>Finished</td>\n      <td>2014</td>\n      <td>Bahrain Grand Prix</td>\n      <td>Williams</td>\n    </tr>\n    <tr>\n      <th>592</th>\n      <td>21946</td>\n      <td>20</td>\n      <td>15</td>\n      <td>31.0</td>\n      <td>1:52.688</td>\n      <td>223.754</td>\n      <td>Bottas</td>\n      <td>Finished</td>\n      <td>2013</td>\n      <td>Belgian Grand Prix</td>\n      <td>Williams</td>\n    </tr>\n  </tbody>\n</table>\n</div>"
     },
     "execution_count": 193,
     "metadata": {},
     "output_type": "execute_result"
    }
   ],
   "source": [
    "FinalData[((FinalData['year'] == 2013) | (FinalData['year'] == 2014)) & ((FinalData['surname'] == 'Bottas'))].sort_values(by=['surname','name_x']).head(6)"
   ],
   "metadata": {
    "collapsed": false
   }
  },
  {
   "cell_type": "code",
   "execution_count": 194,
   "outputs": [
    {
     "data": {
      "text/plain": "      resultId  grid  positionOrder  fastestLap fastestLapTime  \\\n2741     22070     4              7        47.0       1:45.463   \n2775     22518     2              1        49.0       1:45.599   \n2716     21716     3              5        45.0       1:29.759   \n2757     22285     9              2        41.0       1:12.217   \n2720     21782     9              5        48.0       1:38.204   \n2749     22174     2              1        49.0       1:37.108   \n\n      fastestLapSpeed   surname    status  year                 name_x  \\\n2741          189.586  Hamilton  Finished  2013   Abu Dhabi Grand Prix   \n2775          189.342  Hamilton  Finished  2014   Abu Dhabi Grand Prix   \n2716          212.689  Hamilton  Finished  2013  Australian Grand Prix   \n2757          215.650  Hamilton  Finished  2014    Austrian Grand Prix   \n2720          198.395  Hamilton  Finished  2013     Bahrain Grand Prix   \n2749          200.634  Hamilton  Finished  2014     Bahrain Grand Prix   \n\n        name_y  \n2741  Mercedes  \n2775  Mercedes  \n2716  Mercedes  \n2757  Mercedes  \n2720  Mercedes  \n2749  Mercedes  ",
      "text/html": "<div>\n<style scoped>\n    .dataframe tbody tr th:only-of-type {\n        vertical-align: middle;\n    }\n\n    .dataframe tbody tr th {\n        vertical-align: top;\n    }\n\n    .dataframe thead th {\n        text-align: right;\n    }\n</style>\n<table border=\"1\" class=\"dataframe\">\n  <thead>\n    <tr style=\"text-align: right;\">\n      <th></th>\n      <th>resultId</th>\n      <th>grid</th>\n      <th>positionOrder</th>\n      <th>fastestLap</th>\n      <th>fastestLapTime</th>\n      <th>fastestLapSpeed</th>\n      <th>surname</th>\n      <th>status</th>\n      <th>year</th>\n      <th>name_x</th>\n      <th>name_y</th>\n    </tr>\n  </thead>\n  <tbody>\n    <tr>\n      <th>2741</th>\n      <td>22070</td>\n      <td>4</td>\n      <td>7</td>\n      <td>47.0</td>\n      <td>1:45.463</td>\n      <td>189.586</td>\n      <td>Hamilton</td>\n      <td>Finished</td>\n      <td>2013</td>\n      <td>Abu Dhabi Grand Prix</td>\n      <td>Mercedes</td>\n    </tr>\n    <tr>\n      <th>2775</th>\n      <td>22518</td>\n      <td>2</td>\n      <td>1</td>\n      <td>49.0</td>\n      <td>1:45.599</td>\n      <td>189.342</td>\n      <td>Hamilton</td>\n      <td>Finished</td>\n      <td>2014</td>\n      <td>Abu Dhabi Grand Prix</td>\n      <td>Mercedes</td>\n    </tr>\n    <tr>\n      <th>2716</th>\n      <td>21716</td>\n      <td>3</td>\n      <td>5</td>\n      <td>45.0</td>\n      <td>1:29.759</td>\n      <td>212.689</td>\n      <td>Hamilton</td>\n      <td>Finished</td>\n      <td>2013</td>\n      <td>Australian Grand Prix</td>\n      <td>Mercedes</td>\n    </tr>\n    <tr>\n      <th>2757</th>\n      <td>22285</td>\n      <td>9</td>\n      <td>2</td>\n      <td>41.0</td>\n      <td>1:12.217</td>\n      <td>215.650</td>\n      <td>Hamilton</td>\n      <td>Finished</td>\n      <td>2014</td>\n      <td>Austrian Grand Prix</td>\n      <td>Mercedes</td>\n    </tr>\n    <tr>\n      <th>2720</th>\n      <td>21782</td>\n      <td>9</td>\n      <td>5</td>\n      <td>48.0</td>\n      <td>1:38.204</td>\n      <td>198.395</td>\n      <td>Hamilton</td>\n      <td>Finished</td>\n      <td>2013</td>\n      <td>Bahrain Grand Prix</td>\n      <td>Mercedes</td>\n    </tr>\n    <tr>\n      <th>2749</th>\n      <td>22174</td>\n      <td>2</td>\n      <td>1</td>\n      <td>49.0</td>\n      <td>1:37.108</td>\n      <td>200.634</td>\n      <td>Hamilton</td>\n      <td>Finished</td>\n      <td>2014</td>\n      <td>Bahrain Grand Prix</td>\n      <td>Mercedes</td>\n    </tr>\n  </tbody>\n</table>\n</div>"
     },
     "execution_count": 194,
     "metadata": {},
     "output_type": "execute_result"
    }
   ],
   "source": [
    "FinalData[((FinalData['year'] == 2013) | (FinalData['year'] == 2014)) & ((FinalData['surname'] == 'Hamilton'))].sort_values(by=['surname','name_x']).head(6)"
   ],
   "metadata": {
    "collapsed": false
   }
  },
  {
   "cell_type": "code",
   "execution_count": 196,
   "outputs": [
    {
     "data": {
      "text/plain": "<Axes: title={'center': '2013 Indicator against 2014 Average Lap Time'}>"
     },
     "execution_count": 196,
     "metadata": {},
     "output_type": "execute_result"
    },
    {
     "data": {
      "text/plain": "<Figure size 1500x500 with 1 Axes>",
      "image/png": "[encoded data removed]"
     },
     "metadata": {},
     "output_type": "display_data"
    }
   ],
   "source": [
    "# The chart below signifies a 2014 average lap time versus a 2013 indicator time.\n",
    "Initial = [10,10,10,10, 10, 10, 10, 10, 10]\n",
    "SpeedIn2014 = [12.29, 12.07, 11.78, 10.92, 12.71, 11.12, 9.79, 9.82, 10.77]\n",
    "index = ['Vettel', 'Alonso', 'Rosberg', 'Massa', 'Ricciardo', 'Button', 'Bottas', 'Hamilton', 'Vergne']\n",
    "df = pd.DataFrame({'2013 Indicator': Initial, '2014 Avg Lap Time': SpeedIn2014}, index=index)\n",
    "df.plot.bar(rot=0, figsize=(15,5), title = '2013 Indicator against 2014 Average Lap Time')"
   ],
   "metadata": {
    "collapsed": false
   }
  },
  {
   "cell_type": "code",
   "execution_count": null,
   "outputs": [],
   "source": [],
   "metadata": {
    "collapsed": false
   }
  }
 ],
 "metadata": {
  "kernelspec": {
   "display_name": "Python 3",
   "language": "python",
   "name": "python3"
  },
  "language_info": {
   "codemirror_mode": {
    "name": "ipython",
    "version": 2
   },
   "file_extension": ".py",
   "mimetype": "text/x-python",
   "name": "python",
   "nbconvert_exporter": "python",
   "pygments_lexer": "ipython2",
   "version": "2.7.6"
  }
 },
 "nbformat": 4,
 "nbformat_minor": 0
}
